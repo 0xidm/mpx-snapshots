{
 "cells": [
  {
   "cell_type": "markdown",
   "id": "f2f4f279-a17c-4de3-b04c-8bd0a35b844f",
   "metadata": {},
   "source": [
    "# Identify interacting wallet addresses\n",
    "\n",
    "This snapshot begins by identifying all the addresses that ever interacted with Morphex contracts.\n",
    "This list of addresses will be used in the next stage to query balances on-chain."
   ]
  },
  {
   "cell_type": "code",
   "execution_count": 1,
   "id": "e3846411-36e0-422a-9fef-9ae1bc70492a",
   "metadata": {},
   "outputs": [],
   "source": [
    "import os\n",
    "import json\n",
    "import pandas as pd"
   ]
  },
  {
   "cell_type": "markdown",
   "id": "b0cf568f-571d-4be9-9d58-eac9a4002686",
   "metadata": {},
   "source": [
    "## Load Fantom transactions\n",
    "\n",
    "The first stage of this snapshot used an archive of the Fantom DAG, which was queried from public RPC servers.\n",
    "The Fantom archive contains blocks ranging from 54647659 to 65653613 (2023-01-29 to 2023-07-12)."
   ]
  },
  {
   "cell_type": "code",
   "execution_count": 2,
   "id": "7f5232b7-ee5c-4cfe-b893-425dc4b039e1",
   "metadata": {},
   "outputs": [
    {
     "data": {
      "text/html": [
       "<div>\n",
       "<style scoped>\n",
       "    .dataframe tbody tr th:only-of-type {\n",
       "        vertical-align: middle;\n",
       "    }\n",
       "\n",
       "    .dataframe tbody tr th {\n",
       "        vertical-align: top;\n",
       "    }\n",
       "\n",
       "    .dataframe thead th {\n",
       "        text-align: right;\n",
       "    }\n",
       "</style>\n",
       "<table border=\"1\" class=\"dataframe\">\n",
       "  <thead>\n",
       "    <tr style=\"text-align: right;\">\n",
       "      <th></th>\n",
       "      <th>block_id</th>\n",
       "      <th>tx_hash</th>\n",
       "      <th>method</th>\n",
       "      <th>from</th>\n",
       "      <th>to</th>\n",
       "      <th>quantity</th>\n",
       "    </tr>\n",
       "  </thead>\n",
       "  <tbody>\n",
       "    <tr>\n",
       "      <th>0</th>\n",
       "      <td>54647659</td>\n",
       "      <td>0x68b471267b020fb7be707817bbe822da9a18f45071c7...</td>\n",
       "      <td>0x627dd56a</td>\n",
       "      <td>0x5cD5AFF4A3b42b59651BAB5Eb45c07375f60e905</td>\n",
       "      <td>0x3319161b131401124E61ffCDFf0aa7f6FDcbbFEd</td>\n",
       "      <td>0</td>\n",
       "    </tr>\n",
       "    <tr>\n",
       "      <th>1</th>\n",
       "      <td>54647659</td>\n",
       "      <td>0xa873edd8d865c95afd33d5ebeb34cad3df4843b2c769...</td>\n",
       "      <td>0x16711fdc</td>\n",
       "      <td>0x53e0466D46306e9824590988f50B0EEAcA1A6Dae</td>\n",
       "      <td>0x6Ff283ac7BB7F66475Ca79aA549c6f689cDB89Dd</td>\n",
       "      <td>0</td>\n",
       "    </tr>\n",
       "    <tr>\n",
       "      <th>2</th>\n",
       "      <td>54647659</td>\n",
       "      <td>0x68f2f5c608c220d3ff0c421eed9812b7e9d6124d4adb...</td>\n",
       "      <td>0xac882d06</td>\n",
       "      <td>0x656DAA21A427a1A290dD78AC581fFe8CbfF16066</td>\n",
       "      <td>0x6b120e310A892D1Cbe0F89E76Bf7Cb0da3a85BCe</td>\n",
       "      <td>0</td>\n",
       "    </tr>\n",
       "    <tr>\n",
       "      <th>3</th>\n",
       "      <td>54647659</td>\n",
       "      <td>0xd1e53d2e2bcf779b4061a4dc7080a33d4f270b72c61a...</td>\n",
       "      <td>0x627dd56a</td>\n",
       "      <td>0x01883C8E7Abb7C2Ef03d802F77AA567a254e17d7</td>\n",
       "      <td>0x0000900e00070d8090169000D2B090B67f0c1050</td>\n",
       "      <td>0</td>\n",
       "    </tr>\n",
       "    <tr>\n",
       "      <th>4</th>\n",
       "      <td>54647659</td>\n",
       "      <td>0x961463fa4ffc36d9d1fea04060b9c57072950a81a5ca...</td>\n",
       "      <td>0x58b58d44</td>\n",
       "      <td>0x211cB8e0740AdF9066453e627dcc196225c8F0E7</td>\n",
       "      <td>0xe0df6a0840C4f31E81C3d4B11Ba8B579F2ba8b1a</td>\n",
       "      <td>0</td>\n",
       "    </tr>\n",
       "  </tbody>\n",
       "</table>\n",
       "</div>"
      ],
      "text/plain": [
       "   block_id                                            tx_hash      method  \\\n",
       "0  54647659  0x68b471267b020fb7be707817bbe822da9a18f45071c7...  0x627dd56a   \n",
       "1  54647659  0xa873edd8d865c95afd33d5ebeb34cad3df4843b2c769...  0x16711fdc   \n",
       "2  54647659  0x68f2f5c608c220d3ff0c421eed9812b7e9d6124d4adb...  0xac882d06   \n",
       "3  54647659  0xd1e53d2e2bcf779b4061a4dc7080a33d4f270b72c61a...  0x627dd56a   \n",
       "4  54647659  0x961463fa4ffc36d9d1fea04060b9c57072950a81a5ca...  0x58b58d44   \n",
       "\n",
       "                                         from  \\\n",
       "0  0x5cD5AFF4A3b42b59651BAB5Eb45c07375f60e905   \n",
       "1  0x53e0466D46306e9824590988f50B0EEAcA1A6Dae   \n",
       "2  0x656DAA21A427a1A290dD78AC581fFe8CbfF16066   \n",
       "3  0x01883C8E7Abb7C2Ef03d802F77AA567a254e17d7   \n",
       "4  0x211cB8e0740AdF9066453e627dcc196225c8F0E7   \n",
       "\n",
       "                                           to quantity  \n",
       "0  0x3319161b131401124E61ffCDFf0aa7f6FDcbbFEd        0  \n",
       "1  0x6Ff283ac7BB7F66475Ca79aA549c6f689cDB89Dd        0  \n",
       "2  0x6b120e310A892D1Cbe0F89E76Bf7Cb0da3a85BCe        0  \n",
       "3  0x0000900e00070d8090169000D2B090B67f0c1050        0  \n",
       "4  0xe0df6a0840C4f31E81C3d4B11Ba8B579F2ba8b1a        0  "
      ]
     },
     "execution_count": 2,
     "metadata": {},
     "output_type": "execute_result"
    }
   ],
   "source": [
    "fantom_txs_filename = os.path.expanduser(\"../var/fantom-txs.csv.gz\")\n",
    "txs = pd.read_csv(fantom_txs_filename)\n",
    "txs.head()"
   ]
  },
  {
   "cell_type": "code",
   "execution_count": 3,
   "id": "2c872bb5-7d7e-45fe-abbb-63b0ddae43cc",
   "metadata": {},
   "outputs": [],
   "source": [
    "mpx_erc20_address = \"0x66eEd5FF1701E6ed8470DC391F05e27B1d0657eb\"\n",
    "mlp_erc20_address = \"0xd5c313DE2d33bf36014e6c659F13acE112B80a8E\"\n",
    "vault_address = \"0x3CB54f0eB62C371065D739A34a775CC16f46563e\"\n",
    "mlp_manager_address = \"0xA3Ea99f8aE06bA0d9A6Cf7618d06AEa4564340E9\"\n",
    "musd_erc20_address = \"0xB7209EbCBF71c0ffA1585B4468A11CFfdcDBB9a9\"\n",
    "esmpx_erc20_address = \"0xe0f606e6730bE531EeAf42348dE43C2feeD43505\"\n",
    "reward_router_address = \"0x20De7f8283D377fA84575A26c9D484Ee40f55877\"\n",
    "reward_reader_address = \"0x512F8D4E28EB53A6d036aEDA9C5a4D1De6DBD543\"\n",
    "weth_erc20_address = \"0x21be370D5312f44cB42ce377BC9b8a0cEF1A4C83\"\n",
    "tracker_staked_mlp_address = \"0xa4157E273D88ff16B3d8Df68894e1fd809DbC007\" # staked MPX\n",
    "tracker_staked_mpx_address = \"0x49A97680938B4F1f73816d1B70C3Ab801FAd124B\" # fee + staked MLP\n",
    "equalizer_wftm_mpx_address = \"0xdE26e98d868FE02fFfb6DF26E638995124d3Ca13\"\n",
    "equalizer_wftm_mpx_address_new = \"0xF8eed2665FD11a8431fc41b2582fD5E72a1606f0\"\n",
    "equalizer_gauge_1 = \"0x27F7cf5e918311AAF5E7185b5BcDAc158dFacf53\" # \n",
    "equalizer_gauge_2 = \"0x7778a0B4688321c4E705d4e9F1A072f6F1579Bf8\" # equalizer\n",
    "fvm_wftm_mpx_address = \"0xF8eed2665FD11a8431fc41b2582fD5E72a1606f0\"\n",
    "fvm_wftm_mpx_gauge = \"0xF89f367E0225fE68c7c28Fad0BaDc7f569987cFe\""
   ]
  },
  {
   "cell_type": "markdown",
   "id": "0260f549-8338-4565-a8bb-d5b7dbb98837",
   "metadata": {},
   "source": [
    "### MPX ERC-20"
   ]
  },
  {
   "cell_type": "code",
   "execution_count": 4,
   "id": "09a8cbfd-23f3-452b-a80b-bfe889ea1b5f",
   "metadata": {},
   "outputs": [
    {
     "data": {
      "text/plain": [
       "10879"
      ]
     },
     "execution_count": 4,
     "metadata": {},
     "output_type": "execute_result"
    }
   ],
   "source": [
    "mpx_txs = txs.query(f'to == \"{mpx_erc20_address}\"')\n",
    "len(mpx_txs)"
   ]
  },
  {
   "cell_type": "code",
   "execution_count": 5,
   "id": "1e3b2d8d-99e5-46c2-a9b6-e6fe85f25aca",
   "metadata": {},
   "outputs": [
    {
     "data": {
      "text/plain": [
       "4233"
      ]
     },
     "execution_count": 5,
     "metadata": {},
     "output_type": "execute_result"
    }
   ],
   "source": [
    "unique_mpx_addresses = set(mpx_txs['from'])\n",
    "len(unique_mpx_addresses)"
   ]
  },
  {
   "cell_type": "markdown",
   "id": "b3e3d106-449b-4397-a68c-2a06ffc9480b",
   "metadata": {},
   "source": [
    "### Reward Router"
   ]
  },
  {
   "cell_type": "code",
   "execution_count": 6,
   "id": "7e44bbb6-5948-482a-abd9-3cd8da25619b",
   "metadata": {},
   "outputs": [
    {
     "data": {
      "text/plain": [
       "46739"
      ]
     },
     "execution_count": 6,
     "metadata": {},
     "output_type": "execute_result"
    }
   ],
   "source": [
    "reward_router_txs = txs.query(f'to == \"{reward_router_address}\"')\n",
    "len(reward_router_txs)"
   ]
  },
  {
   "cell_type": "code",
   "execution_count": 7,
   "id": "166aa8ec-81b9-40af-a6e4-797c68b588d0",
   "metadata": {},
   "outputs": [
    {
     "data": {
      "text/plain": [
       "1585"
      ]
     },
     "execution_count": 7,
     "metadata": {},
     "output_type": "execute_result"
    }
   ],
   "source": [
    "unique_reward_addresses = set(reward_router_txs['from'])\n",
    "len(unique_reward_addresses)"
   ]
  },
  {
   "cell_type": "markdown",
   "id": "97999384-e625-431d-bb8e-a9553b007daa",
   "metadata": {},
   "source": [
    "### Equalizer WFTM-MPX LP"
   ]
  },
  {
   "cell_type": "code",
   "execution_count": 8,
   "id": "f6a8734c-fb49-41dd-b089-fb398609873e",
   "metadata": {},
   "outputs": [
    {
     "data": {
      "text/plain": [
       "2503"
      ]
     },
     "execution_count": 8,
     "metadata": {},
     "output_type": "execute_result"
    }
   ],
   "source": [
    "equalizer_txs = txs.query(f'to == \"{equalizer_wftm_mpx_address}\"')\n",
    "len(equalizer_txs)"
   ]
  },
  {
   "cell_type": "code",
   "execution_count": 9,
   "id": "40f3e69f-5ecb-41d2-bb2a-e00a90b51904",
   "metadata": {},
   "outputs": [
    {
     "data": {
      "text/plain": [
       "572"
      ]
     },
     "execution_count": 9,
     "metadata": {},
     "output_type": "execute_result"
    }
   ],
   "source": [
    "unique_equalizer_addresses = set(equalizer_txs['from'])\n",
    "len(unique_equalizer_addresses)"
   ]
  },
  {
   "cell_type": "markdown",
   "id": "864efd8a-c098-4209-bd80-2e1432cce72e",
   "metadata": {},
   "source": [
    "### Equalizer WFTM-MPX Gauge"
   ]
  },
  {
   "cell_type": "code",
   "execution_count": 10,
   "id": "b041741a-d6b3-4da2-8fb7-3700f33afce6",
   "metadata": {},
   "outputs": [
    {
     "data": {
      "text/plain": [
       "3838"
      ]
     },
     "execution_count": 10,
     "metadata": {},
     "output_type": "execute_result"
    }
   ],
   "source": [
    "equalizer_gauge_txs = txs.query(f'to == \"{equalizer_gauge_1}\"')\n",
    "len(equalizer_gauge_txs)"
   ]
  },
  {
   "cell_type": "code",
   "execution_count": 11,
   "id": "fdf71387-c2d9-49d6-81b4-f799101715ca",
   "metadata": {},
   "outputs": [
    {
     "data": {
      "text/plain": [
       "265"
      ]
     },
     "execution_count": 11,
     "metadata": {},
     "output_type": "execute_result"
    }
   ],
   "source": [
    "unique_equalizer_gauge_addresses = set(equalizer_gauge_txs['from'])\n",
    "len(unique_equalizer_gauge_addresses)"
   ]
  },
  {
   "cell_type": "markdown",
   "id": "95690b87-bdf2-43f4-9fee-46856de4a459",
   "metadata": {},
   "source": [
    "### FVM WFTM-MPX LP"
   ]
  },
  {
   "cell_type": "code",
   "execution_count": 12,
   "id": "a28c0396-7a80-4553-af4b-5771fbb9d774",
   "metadata": {},
   "outputs": [
    {
     "data": {
      "text/plain": [
       "170"
      ]
     },
     "execution_count": 12,
     "metadata": {},
     "output_type": "execute_result"
    }
   ],
   "source": [
    "fvm_txs = txs.query(f'to == \"{fvm_wftm_mpx_address}\"')\n",
    "len(fvm_txs)"
   ]
  },
  {
   "cell_type": "code",
   "execution_count": 13,
   "id": "3f6632f3-82ad-45a2-bf9d-f1737b145e82",
   "metadata": {},
   "outputs": [
    {
     "data": {
      "text/plain": [
       "89"
      ]
     },
     "execution_count": 13,
     "metadata": {},
     "output_type": "execute_result"
    }
   ],
   "source": [
    "unique_fvm_addresses = set(fvm_txs['from'])\n",
    "len(unique_fvm_addresses)"
   ]
  },
  {
   "cell_type": "markdown",
   "id": "1182ae6e-26c4-4cfa-9834-5329ff3a6f25",
   "metadata": {},
   "source": [
    "### FVM WFTM-MPX Gauge"
   ]
  },
  {
   "cell_type": "code",
   "execution_count": 14,
   "id": "4500db06-062b-4df8-b98d-cd8a7295a3bc",
   "metadata": {},
   "outputs": [
    {
     "data": {
      "text/plain": [
       "392"
      ]
     },
     "execution_count": 14,
     "metadata": {},
     "output_type": "execute_result"
    }
   ],
   "source": [
    "fvm_gauge_txs = txs.query(f'to == \"{fvm_wftm_mpx_gauge}\"')\n",
    "len(fvm_gauge_txs)"
   ]
  },
  {
   "cell_type": "code",
   "execution_count": 15,
   "id": "733cf7ce-7d32-46e9-aec8-085636000591",
   "metadata": {},
   "outputs": [
    {
     "data": {
      "text/plain": [
       "88"
      ]
     },
     "execution_count": 15,
     "metadata": {},
     "output_type": "execute_result"
    }
   ],
   "source": [
    "unique_fvm_gauge_addresses = set(fvm_gauge_txs['from'])\n",
    "len(unique_fvm_gauge_addresses)"
   ]
  },
  {
   "cell_type": "markdown",
   "id": "894790a5-e539-4557-9f50-50a908b5e5a9",
   "metadata": {},
   "source": [
    "### Combine unique addresses"
   ]
  },
  {
   "cell_type": "code",
   "execution_count": 16,
   "id": "f4278e03-6daa-45ba-a45d-edb553804d14",
   "metadata": {},
   "outputs": [
    {
     "data": {
      "text/plain": [
       "4511"
      ]
     },
     "execution_count": 16,
     "metadata": {},
     "output_type": "execute_result"
    }
   ],
   "source": [
    "addresses = unique_reward_addresses | \\\n",
    "    unique_mpx_addresses | \\\n",
    "    unique_equalizer_addresses | \\\n",
    "    unique_equalizer_gauge_addresses | \\\n",
    "    unique_fvm_addresses | \\\n",
    "    unique_fvm_gauge_addresses\n",
    "addresses = list(addresses)\n",
    "\n",
    "# include Equalizer LPs\n",
    "addresses.append(equalizer_wftm_mpx_address)\n",
    "addresses.append(equalizer_wftm_mpx_address_new) \n",
    "\n",
    "# include Equalizer Gauges\n",
    "addresses.append(equalizer_gauge_1)\n",
    "addresses.append(equalizer_gauge_2)\n",
    "\n",
    "# include FVM LP and Gauge\n",
    "addresses.append(fvm_wftm_mpx_address)\n",
    "addresses.append(fvm_wftm_mpx_gauge)\n",
    "len(addresses)"
   ]
  },
  {
   "cell_type": "markdown",
   "id": "4c139ce4-4852-4d90-9f2a-a45a5650ec16",
   "metadata": {},
   "source": [
    "## Export final Fantom addresses"
   ]
  },
  {
   "cell_type": "code",
   "execution_count": 17,
   "id": "90dec718-19c6-4d08-b4fa-7402ce895bd3",
   "metadata": {},
   "outputs": [],
   "source": [
    "addresses = sorted(addresses)\n",
    "with open(\"../data/fantom-addresses.json\", \"w\") as f:\n",
    "    json.dump(addresses, f, indent=2)"
   ]
  }
 ],
 "metadata": {
  "kernelspec": {
   "display_name": "Python 3 (ipykernel)",
   "language": "python",
   "name": "python3"
  },
  "language_info": {
   "codemirror_mode": {
    "name": "ipython",
    "version": 3
   },
   "file_extension": ".py",
   "mimetype": "text/x-python",
   "name": "python",
   "nbconvert_exporter": "python",
   "pygments_lexer": "ipython3",
   "version": "3.9.16"
  }
 },
 "nbformat": 4,
 "nbformat_minor": 5
}
