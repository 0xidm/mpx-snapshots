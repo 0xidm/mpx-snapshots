{
 "cells": [
  {
   "cell_type": "markdown",
   "id": "8e8505e2-e2e8-473f-b0ed-2ac16bd18082",
   "metadata": {},
   "source": [
    "# veFVM Distribution"
   ]
  },
  {
   "cell_type": "code",
   "execution_count": 9,
   "id": "6081994c-8cfe-4bf4-a343-c4d9bef102ab",
   "metadata": {},
   "outputs": [],
   "source": [
    "import pandas as pd\n",
    "import json\n",
    "\n",
    "vefvm_total = 60000"
   ]
  },
  {
   "cell_type": "code",
   "execution_count": 2,
   "id": "d20bf2b0-71f0-427b-85b7-132ab68f6f96",
   "metadata": {},
   "outputs": [],
   "source": [
    "bsc_mpx_balances = pd.read_csv(\"../products/bsc-mpx-balances.csv\", header=0, names=[\"address\", \"bsc_mpx_balance\"], dtype={\"address\": str, \"bsc_mpx_balance\": float})\n",
    "bsc_thena_balances = pd.read_csv(\"../products/bsc-thena-balances.csv\", header=0, names=[\"address\", \"bsc_thena_lp_balance\", \"bsc_thena_mpx_balance\"], dtype={\"address\": str, \"bsc_thena_lp_balance\": float, \"bsc_thena_mpx_balance\": float})\n",
    "fantom_equalizer_balances = pd.read_csv(\"../products/fantom-equalizer-balances.csv\", header=0, names=[\"address\", \"fantom_equalizer_lp_balance\", \"fantom_equalizer_mpx_balance\"], dtype={\"address\": str, \"fantom_equalizer_lp_balance\": float, \"fantom_equalizer_mpx_balance\": float})\n",
    "fantom_fsmlp_balances = pd.read_csv(\"../products/fantom-fsmlp-balances.csv\", header=0, names=[\"address\", \"fantom_fsmlp_balance\"], dtype={\"address\": str, \"fantom_fsmlp_balance\": float})\n",
    "fantom_fvm_balances = pd.read_csv(\"../products/fantom-fvm-balances.csv\", header=0, names=[\"address\", \"fantom_fvm_lp_balance\", \"fantom_fvm_mpx_balance\"], dtype={\"address\": str, \"fantom_fvm_lp_balance\": float, \"fantom_fvm_mpx_balance\": float})\n",
    "fantom_mpx_balances = pd.read_csv(\"../products/fantom-mpx-balances.csv\", header=0, names=[\"address\", \"fantom_mpx_balance\"], dtype={\"address\": str, \"fantom_mpx_balance\": float})\n",
    "fantom_smpx_balances = pd.read_csv(\"../products/fantom-smpx-balances.csv\", header=0, names=[\"address\", \"fantom_smpx_balance\"], dtype={\"address\": str, \"fantom_smpx_balance\": float})"
   ]
  },
  {
   "cell_type": "code",
   "execution_count": 3,
   "id": "7f08c59f-1cfd-495a-a105-35c95a5c8648",
   "metadata": {},
   "outputs": [
    {
     "data": {
      "text/html": [
       "<div>\n",
       "<style scoped>\n",
       "    .dataframe tbody tr th:only-of-type {\n",
       "        vertical-align: middle;\n",
       "    }\n",
       "\n",
       "    .dataframe tbody tr th {\n",
       "        vertical-align: top;\n",
       "    }\n",
       "\n",
       "    .dataframe thead th {\n",
       "        text-align: right;\n",
       "    }\n",
       "</style>\n",
       "<table border=\"1\" class=\"dataframe\">\n",
       "  <thead>\n",
       "    <tr style=\"text-align: right;\">\n",
       "      <th></th>\n",
       "      <th>address</th>\n",
       "      <th>bsc_mpx_balance</th>\n",
       "      <th>bsc_thena_lp_balance</th>\n",
       "      <th>bsc_thena_mpx_balance</th>\n",
       "    </tr>\n",
       "  </thead>\n",
       "  <tbody>\n",
       "    <tr>\n",
       "      <th>0</th>\n",
       "      <td>0x3461e03e15329f64B95264e4FFD7079281ae1e48</td>\n",
       "      <td>8.910629e+18</td>\n",
       "      <td>8.879953e+19</td>\n",
       "      <td>3.710819e+21</td>\n",
       "    </tr>\n",
       "    <tr>\n",
       "      <th>1</th>\n",
       "      <td>0xcC28906983a61541632fb9B8ae2e1bEe531C4aaA</td>\n",
       "      <td>2.765961e+17</td>\n",
       "      <td>0.000000e+00</td>\n",
       "      <td>0.000000e+00</td>\n",
       "    </tr>\n",
       "    <tr>\n",
       "      <th>2</th>\n",
       "      <td>0xc01895BF22E746Af53A6d820a3224521CEe0B916</td>\n",
       "      <td>6.531759e+15</td>\n",
       "      <td>3.523060e+19</td>\n",
       "      <td>1.472242e+21</td>\n",
       "    </tr>\n",
       "    <tr>\n",
       "      <th>3</th>\n",
       "      <td>0x3E7b8D12D4De6CB284A7d60Bf92B462D2a6d6A2F</td>\n",
       "      <td>8.720234e+15</td>\n",
       "      <td>0.000000e+00</td>\n",
       "      <td>0.000000e+00</td>\n",
       "    </tr>\n",
       "    <tr>\n",
       "      <th>4</th>\n",
       "      <td>0xD7FF20a8c5Ac84cf1aea70908F5d3CC36951d121</td>\n",
       "      <td>1.640000e+12</td>\n",
       "      <td>0.000000e+00</td>\n",
       "      <td>0.000000e+00</td>\n",
       "    </tr>\n",
       "  </tbody>\n",
       "</table>\n",
       "</div>"
      ],
      "text/plain": [
       "                                      address  bsc_mpx_balance  \\\n",
       "0  0x3461e03e15329f64B95264e4FFD7079281ae1e48     8.910629e+18   \n",
       "1  0xcC28906983a61541632fb9B8ae2e1bEe531C4aaA     2.765961e+17   \n",
       "2  0xc01895BF22E746Af53A6d820a3224521CEe0B916     6.531759e+15   \n",
       "3  0x3E7b8D12D4De6CB284A7d60Bf92B462D2a6d6A2F     8.720234e+15   \n",
       "4  0xD7FF20a8c5Ac84cf1aea70908F5d3CC36951d121     1.640000e+12   \n",
       "\n",
       "   bsc_thena_lp_balance  bsc_thena_mpx_balance  \n",
       "0          8.879953e+19           3.710819e+21  \n",
       "1          0.000000e+00           0.000000e+00  \n",
       "2          3.523060e+19           1.472242e+21  \n",
       "3          0.000000e+00           0.000000e+00  \n",
       "4          0.000000e+00           0.000000e+00  "
      ]
     },
     "execution_count": 3,
     "metadata": {},
     "output_type": "execute_result"
    }
   ],
   "source": [
    "bsc_combined = pd.merge(bsc_mpx_balances, bsc_thena_balances, on=[\"address\"], how=\"outer\")\n",
    "bsc_combined.fillna(0, inplace=True)\n",
    "len(bsc_combined)\n",
    "bsc_combined.head()"
   ]
  },
  {
   "cell_type": "code",
   "execution_count": 4,
   "id": "6258b01e-d77d-420a-b99f-44a56d22d720",
   "metadata": {},
   "outputs": [
    {
     "data": {
      "text/plain": [
       "2528"
      ]
     },
     "execution_count": 4,
     "metadata": {},
     "output_type": "execute_result"
    }
   ],
   "source": [
    "ftm_combined = pd.merge(fantom_equalizer_balances, fantom_fsmlp_balances, on=[\"address\"], how=\"outer\")\n",
    "ftm_combined = pd.merge(ftm_combined, fantom_fvm_balances, on=[\"address\"], how=\"outer\")\n",
    "ftm_combined = pd.merge(ftm_combined, fantom_mpx_balances, on=[\"address\"], how=\"outer\")\n",
    "ftm_combined = pd.merge(ftm_combined, fantom_smpx_balances, on=[\"address\"], how=\"outer\")\n",
    "ftm_combined.fillna(0, inplace=True)\n",
    "ftm_combined.head()\n",
    "len(ftm_combined)"
   ]
  },
  {
   "cell_type": "code",
   "execution_count": 5,
   "id": "15329070-0b81-4a5e-99d1-baa363eb1fc1",
   "metadata": {},
   "outputs": [
    {
     "data": {
      "text/plain": [
       "2560"
      ]
     },
     "execution_count": 5,
     "metadata": {},
     "output_type": "execute_result"
    }
   ],
   "source": [
    "combined = pd.merge(bsc_combined, ftm_combined, on=[\"address\"], how=\"outer\")\n",
    "combined.fillna(0, inplace=True)\n",
    "len(combined)"
   ]
  },
  {
   "cell_type": "code",
   "execution_count": 6,
   "id": "0c46678c-1c94-4155-b1a3-dda2ecd4c835",
   "metadata": {},
   "outputs": [],
   "source": [
    "combined[\"total_mpx\"] = \\\n",
    "    combined[\"bsc_thena_mpx_balance\"] + \\\n",
    "    combined[\"fantom_equalizer_mpx_balance\"] + \\\n",
    "    combined[\"fantom_fvm_mpx_balance\"] + \\\n",
    "    combined[\"fantom_smpx_balance\"] + \\\n",
    "    combined[\"bsc_mpx_balance\"] + \\\n",
    "    combined[\"fantom_mpx_balance\"]"
   ]
  },
  {
   "cell_type": "code",
   "execution_count": 11,
   "id": "7c3c7a02-06d1-4764-8f2a-e346cec7942b",
   "metadata": {},
   "outputs": [],
   "source": [
    "# Remove treasury, mpx, etc\n",
    "with open(\"../data/excluded.json\", \"r\") as f:\n",
    "    excluded = json.load(f)\n",
    "combined = (combined[~combined.address.isin(excluded)])"
   ]
  },
  {
   "cell_type": "code",
   "execution_count": 12,
   "id": "965ae0dd-9f4f-4689-933f-e4a0f480ddda",
   "metadata": {},
   "outputs": [
    {
     "data": {
      "text/plain": [
       "59999.9999999999"
      ]
     },
     "execution_count": 12,
     "metadata": {},
     "output_type": "execute_result"
    }
   ],
   "source": [
    "mpx_total = sum(combined[\"total_mpx\"])\n",
    "combined['vefvm_balance'] = (combined['total_mpx'] / mpx_total) * vefvm_total\n",
    "sum(combined['vefvm_balance'])"
   ]
  },
  {
   "cell_type": "code",
   "execution_count": 13,
   "id": "996bf799-7634-4df8-b25d-b9e9db1b5f54",
   "metadata": {},
   "outputs": [],
   "source": [
    "combined.to_csv(\"../products/combined.csv\", index=False, float_format='%.0f')"
   ]
  },
  {
   "cell_type": "code",
   "execution_count": 14,
   "id": "eddf842b-e218-43e2-b0a8-c385ef3c5d24",
   "metadata": {},
   "outputs": [],
   "source": [
    "vefvm = combined[[\"address\", \"vefvm_balance\"]]\n",
    "vefvm.to_csv(\"../products/vefvm-balances.csv\", index=False, float_format='%.0f')"
   ]
  }
 ],
 "metadata": {
  "kernelspec": {
   "display_name": "Python 3 (ipykernel)",
   "language": "python",
   "name": "python3"
  },
  "language_info": {
   "codemirror_mode": {
    "name": "ipython",
    "version": 3
   },
   "file_extension": ".py",
   "mimetype": "text/x-python",
   "name": "python",
   "nbconvert_exporter": "python",
   "pygments_lexer": "ipython3",
   "version": "3.9.16"
  }
 },
 "nbformat": 4,
 "nbformat_minor": 5
}
