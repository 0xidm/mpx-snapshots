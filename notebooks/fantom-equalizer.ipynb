{
 "cells": [
  {
   "cell_type": "markdown",
   "id": "78451ab6-871d-40e8-b14f-33d86d338459",
   "metadata": {},
   "source": [
    "# Equalizer WFTM-MPX LP"
   ]
  },
  {
   "cell_type": "code",
   "execution_count": 1,
   "id": "703a2ca5-b103-4731-a0d2-b0683a3a0309",
   "metadata": {},
   "outputs": [],
   "source": [
    "import json\n",
    "import pandas as pd\n",
    "from chaino.scheduler.call import parse_address\n",
    "\n",
    "mpx_erc20_address = \"0x66eEd5FF1701E6ed8470DC391F05e27B1d0657eb\"\n",
    "mlp_erc20_address = \"0xd5c313DE2d33bf36014e6c659F13acE112B80a8E\"\n",
    "vault_address = \"0x3CB54f0eB62C371065D739A34a775CC16f46563e\"\n",
    "mlp_manager_address = \"0xA3Ea99f8aE06bA0d9A6Cf7618d06AEa4564340E9\"\n",
    "musd_erc20_address = \"0xB7209EbCBF71c0ffA1585B4468A11CFfdcDBB9a9\"\n",
    "esmpx_erc20_address = \"0xe0f606e6730bE531EeAf42348dE43C2feeD43505\"\n",
    "reward_router_address = \"0x20De7f8283D377fA84575A26c9D484Ee40f55877\"\n",
    "reward_reader_address = \"0x512F8D4E28EB53A6d036aEDA9C5a4D1De6DBD543\"\n",
    "weth_erc20_address = \"0x21be370D5312f44cB42ce377BC9b8a0cEF1A4C83\"\n",
    "tracker_staked_mlp_address = \"0xa4157E273D88ff16B3d8Df68894e1fd809DbC007\" # staked MPX\n",
    "tracker_staked_mpx_address = \"0x49A97680938B4F1f73816d1B70C3Ab801FAd124B\" # fee + staked MLP\n",
    "equalizer_wftm_mpx_address = \"0xdE26e98d868FE02fFfb6DF26E638995124d3Ca13\"\n",
    "equalizer_wftm_mpx_address_new = \"0xF8eed2665FD11a8431fc41b2582fD5E72a1606f0\"\n",
    "equalizer_gauge_1 = \"0x27F7cf5e918311AAF5E7185b5BcDAc158dFacf53\" # \n",
    "equalizer_gauge_2 = \"0x7778a0B4688321c4E705d4e9F1A072f6F1579Bf8\" # equalizer\n",
    "fvm_wftm_mpx_address = \"0xF8eed2665FD11a8431fc41b2582fD5E72a1606f0\"\n",
    "fvm_wftm_mpx_gauge = \"0xF89f367E0225fE68c7c28Fad0BaDc7f569987cFe\""
   ]
  },
  {
   "cell_type": "markdown",
   "id": "592e2e26-8249-46c7-b02f-52c88c9c15e4",
   "metadata": {},
   "source": [
    "First we obtain the MPX balance for the Equalizer LP.\n",
    "These balances are queried from the MPX ERC-20 contract."
   ]
  },
  {
   "cell_type": "code",
   "execution_count": 2,
   "id": "e8f7f7fb-bacd-4cdc-92e5-5ccfdea22981",
   "metadata": {},
   "outputs": [
    {
     "data": {
      "text/plain": [
       "1281894.1184612277"
      ]
     },
     "execution_count": 2,
     "metadata": {},
     "output_type": "execute_result"
    }
   ],
   "source": [
    "mpx_erc20_balances = pd.read_csv(\"../products/fantom-mpx-balances.csv\")\n",
    "pool_mpx_total = mpx_erc20_balances.query(f'address == \"{equalizer_wftm_mpx_address}\"')\n",
    "pool_mpx_total = int(list(pool_mpx_total['balance'])[0])\n",
    "pool_mpx_total / 1e18"
   ]
  },
  {
   "cell_type": "markdown",
   "id": "c2c9934d-3f1c-4a3d-8c7c-64b7a78a405c",
   "metadata": {},
   "source": [
    "Then we obtain the balances of the Equalizer WFTM-MPX LP.\n",
    "This represents the distribution of MPX provided for liquidity."
   ]
  },
  {
   "cell_type": "code",
   "execution_count": 3,
   "id": "e3b9a0ab-962f-412b-b78c-a158a93086ee",
   "metadata": {},
   "outputs": [
    {
     "data": {
      "text/plain": [
       "4510"
      ]
     },
     "execution_count": 3,
     "metadata": {},
     "output_type": "execute_result"
    }
   ],
   "source": [
    "with open(\"../data/fantom-equalizer-wftm-mpx.json\", \"r\") as f:\n",
    "    equalizer_call_results = json.load(f)\n",
    "len(equalizer_call_results)"
   ]
  },
  {
   "cell_type": "code",
   "execution_count": 4,
   "id": "ce9af2d3-a3f5-46ff-b40e-b88e6fbbee7f",
   "metadata": {},
   "outputs": [
    {
     "data": {
      "text/plain": [
       "851396.9011039473"
      ]
     },
     "execution_count": 4,
     "metadata": {},
     "output_type": "execute_result"
    }
   ],
   "source": [
    "equalizer_lp_balances = {}\n",
    "for key, value in equalizer_call_results.items():\n",
    "    if value > 0:\n",
    "        equalizer_lp_balances[parse_address(key)] = value\n",
    "\n",
    "pool_lp_total = sum(equalizer_lp_balances.values())\n",
    "pool_lp_total / 1e18"
   ]
  },
  {
   "cell_type": "markdown",
   "id": "e9f4bcc3-e580-48e9-9a64-04ab229e2e24",
   "metadata": {},
   "source": [
    "## Equalizer WFTM-MPX Gauges"
   ]
  },
  {
   "cell_type": "markdown",
   "id": "3d34b90f-435e-4238-aab8-617201ab584d",
   "metadata": {},
   "source": [
    "Most of the LP is controlled by a gauge.\n",
    "So, we must examine gauge contract balances to find the actual addresses that control the MPX."
   ]
  },
  {
   "cell_type": "code",
   "execution_count": 5,
   "id": "5dbfedd6-3278-4f01-bca7-877dd8017bfa",
   "metadata": {},
   "outputs": [
    {
     "data": {
      "text/plain": [
       "4510"
      ]
     },
     "execution_count": 5,
     "metadata": {},
     "output_type": "execute_result"
    }
   ],
   "source": [
    "with open(\"../data/fantom-equalizer-gauge-1.json\", \"r\") as f:\n",
    "    equalizer_gauge_1_call_results = json.load(f)\n",
    "len(equalizer_gauge_1_call_results)"
   ]
  },
  {
   "cell_type": "code",
   "execution_count": 6,
   "id": "fd162527-3e3a-4ce2-bb81-58ae450cbebf",
   "metadata": {},
   "outputs": [
    {
     "data": {
      "text/plain": [
       "524974.0046707705"
      ]
     },
     "execution_count": 6,
     "metadata": {},
     "output_type": "execute_result"
    }
   ],
   "source": [
    "equalizer_gauge_1_balances = {}\n",
    "for key, value in equalizer_gauge_1_call_results.items():\n",
    "    if value > 0:\n",
    "        equalizer_gauge_1_balances[parse_address(key)] = value\n",
    "\n",
    "gauge_1_lp_total = sum(equalizer_gauge_1_balances.values())\n",
    "sum(equalizer_gauge_1_balances.values()) / 1e18"
   ]
  },
  {
   "cell_type": "code",
   "execution_count": 7,
   "id": "6e057351-0f90-4fea-a0f8-77de5bd7f8da",
   "metadata": {},
   "outputs": [
    {
     "data": {
      "text/plain": [
       "4510"
      ]
     },
     "execution_count": 7,
     "metadata": {},
     "output_type": "execute_result"
    }
   ],
   "source": [
    "with open(\"../data/fantom-equalizer-gauge-2.json\", \"r\") as f:\n",
    "    equalizer_gauge_2_call_results = json.load(f)\n",
    "len(equalizer_gauge_2_call_results)"
   ]
  },
  {
   "cell_type": "code",
   "execution_count": 8,
   "id": "f269888f-8b42-4666-b278-7ebf916ecb48",
   "metadata": {},
   "outputs": [
    {
     "data": {
      "text/plain": [
       "11149.893598054376"
      ]
     },
     "execution_count": 8,
     "metadata": {},
     "output_type": "execute_result"
    }
   ],
   "source": [
    "equalizer_gauge_2_balances = {}\n",
    "for key, value in equalizer_gauge_2_call_results.items():\n",
    "    if value > 0:\n",
    "        equalizer_gauge_2_balances[parse_address(key)] = value\n",
    "\n",
    "gauge_2_lp_total = sum(equalizer_gauge_2_balances.values())\n",
    "sum(equalizer_gauge_2_balances.values()) / 1e18"
   ]
  },
  {
   "cell_type": "markdown",
   "id": "5b5a130a-7b28-4e05-b349-d150f34aa2ff",
   "metadata": {},
   "source": [
    "## Attribute MPX to LP and Gauge"
   ]
  },
  {
   "cell_type": "markdown",
   "id": "986ed7b8-c391-4a70-9a4a-0ffbec75f524",
   "metadata": {},
   "source": [
    "Finally, we attribute MPX to original addresses.\n",
    "The MPX controlled by each address is held in proportion to the LP tokens controlled by that address."
   ]
  },
  {
   "cell_type": "markdown",
   "id": "75fba937-a3c5-4361-aa15-4c85b19e8a8f",
   "metadata": {},
   "source": [
    "Step 1. Examine the LP and directly assign LP to non-gauge addresses."
   ]
  },
  {
   "cell_type": "code",
   "execution_count": 9,
   "id": "bada3e54-8879-485d-94d7-335a8ec589e2",
   "metadata": {},
   "outputs": [
    {
     "data": {
      "text/plain": [
       "1123.1288125757815"
      ]
     },
     "execution_count": 9,
     "metadata": {},
     "output_type": "execute_result"
    }
   ],
   "source": [
    "equalizer_lp_attributed_balances = {}\n",
    "for key, value in equalizer_call_results.items():\n",
    "    if value > 0 and parse_address(key) not in [equalizer_gauge_1, equalizer_gauge_2]:\n",
    "        equalizer_lp_attributed_balances[parse_address(key)] = value\n",
    "sum(equalizer_lp_attributed_balances.values()) / 1e18"
   ]
  },
  {
   "cell_type": "markdown",
   "id": "38c5830e-372c-42ce-a36c-0ff4d308724c",
   "metadata": {},
   "source": [
    "Step 2. Examine Gauges and assign LP to addresses.\n",
    "First determine how much LP is controlled by a gauge, then assign LP based on proportion of gauge."
   ]
  },
  {
   "cell_type": "code",
   "execution_count": 10,
   "id": "1453148a-c06e-4656-9a40-ed7a9adac976",
   "metadata": {},
   "outputs": [
    {
     "data": {
      "text/plain": [
       "839123.0124607284"
      ]
     },
     "execution_count": 10,
     "metadata": {},
     "output_type": "execute_result"
    }
   ],
   "source": [
    "lp_controlled_by_gauge_1 = equalizer_lp_balances[equalizer_gauge_1]\n",
    "lp_controlled_by_gauge_1 / 1e18"
   ]
  },
  {
   "cell_type": "code",
   "execution_count": 11,
   "id": "3dbe6c61-9268-4fbb-881d-c9b5155ec672",
   "metadata": {},
   "outputs": [
    {
     "data": {
      "text/plain": [
       "840188.8691212935"
      ]
     },
     "execution_count": 11,
     "metadata": {},
     "output_type": "execute_result"
    }
   ],
   "source": [
    "for key, value in equalizer_gauge_1_call_results.items():\n",
    "    if value > 0 and parse_address(key) not in [equalizer_gauge_1, equalizer_gauge_2]:\n",
    "        equalizer_lp_attributed_balances[parse_address(key)] = (value / gauge_1_lp_total) * lp_controlled_by_gauge_1\n",
    "sum(equalizer_lp_attributed_balances.values()) / 1e18"
   ]
  },
  {
   "cell_type": "code",
   "execution_count": 12,
   "id": "8a41e861-2678-4a86-ae2c-6036e6bac7bb",
   "metadata": {},
   "outputs": [
    {
     "data": {
      "text/plain": [
       "11150.759830643088"
      ]
     },
     "execution_count": 12,
     "metadata": {},
     "output_type": "execute_result"
    }
   ],
   "source": [
    "lp_controlled_by_gauge_2 = equalizer_lp_balances[equalizer_gauge_2]\n",
    "lp_controlled_by_gauge_2 / 1e18"
   ]
  },
  {
   "cell_type": "code",
   "execution_count": 13,
   "id": "814da2e7-a5b2-4184-b269-8f0a152f4c2f",
   "metadata": {},
   "outputs": [
    {
     "data": {
      "text/plain": [
       "848706.3446693355"
      ]
     },
     "execution_count": 13,
     "metadata": {},
     "output_type": "execute_result"
    }
   ],
   "source": [
    "for key, value in equalizer_gauge_2_call_results.items():\n",
    "    if value > 0 and parse_address(key) not in [equalizer_gauge_1, equalizer_gauge_2]:\n",
    "        equalizer_lp_attributed_balances[parse_address(key)] = (value / gauge_2_lp_total) * lp_controlled_by_gauge_2\n",
    "sum(equalizer_lp_attributed_balances.values()) / 1e18"
   ]
  },
  {
   "cell_type": "code",
   "execution_count": 14,
   "id": "4c736bb7-aea8-4da7-ac9d-0f43f5552cd0",
   "metadata": {},
   "outputs": [
    {
     "data": {
      "text/plain": [
       "100.0"
      ]
     },
     "execution_count": 14,
     "metadata": {},
     "output_type": "execute_result"
    }
   ],
   "source": [
    "(1 - ((pool_lp_total - sum(equalizer_lp_balances.values())) / pool_lp_total)) * 100"
   ]
  },
  {
   "cell_type": "markdown",
   "id": "9217d835-2ce8-4d1d-b9cb-3ea49bf75b6a",
   "metadata": {},
   "source": [
    "We have attributed all of the LP.\n",
    "\n",
    "## Final export of balances"
   ]
  },
  {
   "cell_type": "code",
   "execution_count": 15,
   "id": "3597fef7-748d-42f9-96c6-8a8ddd207f2f",
   "metadata": {},
   "outputs": [
    {
     "data": {
      "text/plain": [
       "848706.3446693354"
      ]
     },
     "execution_count": 15,
     "metadata": {},
     "output_type": "execute_result"
    }
   ],
   "source": [
    "df = pd.DataFrame.from_dict(equalizer_lp_attributed_balances, orient=\"index\", columns=[\"lp_balance\"])\n",
    "df[\"address\"] = df.index\n",
    "df.reset_index(drop=True, inplace=True)\n",
    "df = df[[\"address\", \"lp_balance\"]]\n",
    "df['mpx_balance'] = (df['lp_balance'] / pool_lp_total) * pool_mpx_total\n",
    "df['lp_balance'] = df['lp_balance'].apply(lambda x: int(x)).values.tolist()\n",
    "df['mpx_balance'] = df['mpx_balance'].apply(lambda x: int(x)).values.tolist()\n",
    "df.to_csv(\"../products/fantom-equalizer-balances.csv\", index=False, float_format='%g')\n",
    "sum(df['lp_balance']) / 1e18"
   ]
  }
 ],
 "metadata": {
  "kernelspec": {
   "display_name": "Python 3 (ipykernel)",
   "language": "python",
   "name": "python3"
  },
  "language_info": {
   "codemirror_mode": {
    "name": "ipython",
    "version": 3
   },
   "file_extension": ".py",
   "mimetype": "text/x-python",
   "name": "python",
   "nbconvert_exporter": "python",
   "pygments_lexer": "ipython3",
   "version": "3.9.16"
  }
 },
 "nbformat": 4,
 "nbformat_minor": 5
}
