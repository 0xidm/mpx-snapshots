{
 "cells": [
  {
   "cell_type": "markdown",
   "id": "232a697b-7a4d-449f-af8a-e81c54110352",
   "metadata": {},
   "source": [
    "# Call contracts on-chain to obtain balances\n",
    "\n",
    "Fantom RPCs providing full/archival operation permit `eth_call` to be executed against a historical block.\n",
    "For this snapshot, we queried contracts on-chain at block `64884840` (June 30, 2:20 UTC)."
   ]
  },
  {
   "cell_type": "code",
   "execution_count": 1,
   "id": "6285bc0a-936e-475b-827b-7f32726e79b3",
   "metadata": {},
   "outputs": [],
   "source": [
    "import json\n",
    "import pandas as pd\n",
    "\n",
    "def parse_address(item):\n",
    "    return item.split(\",\")[2].split(\"'\")[1]"
   ]
  },
  {
   "cell_type": "markdown",
   "id": "361ec95b-c743-4ccc-ade8-5ae40b1911ac",
   "metadata": {},
   "source": [
    "## MPX ERC-20\n",
    "\n",
    "Obtain balances for all interacting addresses, including Equalizer LPs.\n",
    "MPX that is single-staked will be counted later."
   ]
  },
  {
   "cell_type": "code",
   "execution_count": 2,
   "id": "dc73f519-48d5-4c78-96ee-8ab775254063",
   "metadata": {},
   "outputs": [
    {
     "data": {
      "text/plain": [
       "4510"
      ]
     },
     "execution_count": 2,
     "metadata": {},
     "output_type": "execute_result"
    }
   ],
   "source": [
    "with open(\"../data/fantom-mpx.json\", \"r\") as f:\n",
    "    mpx_erc20_call_results = json.load(f)\n",
    "len(mpx_erc20_call_results)"
   ]
  },
  {
   "cell_type": "code",
   "execution_count": 3,
   "id": "6cb21629-20a1-4174-8cf1-4f790dd1217b",
   "metadata": {},
   "outputs": [
    {
     "data": {
      "text/plain": [
       "1614428.0117833277"
      ]
     },
     "execution_count": 3,
     "metadata": {},
     "output_type": "execute_result"
    }
   ],
   "source": [
    "mpx_erc20_balances = {}\n",
    "for key, value in mpx_erc20_call_results.items():\n",
    "    if value > 0:\n",
    "        mpx_erc20_balances[parse_address(key)] = value\n",
    "\n",
    "df = pd.DataFrame.from_dict(mpx_erc20_balances, orient=\"index\", columns=[\"balance\"])\n",
    "df[\"address\"] = df.index\n",
    "df.reset_index(drop=True, inplace=True)\n",
    "df = df[[\"address\", \"balance\"]]\n",
    "df['balance'] = df['balance'].apply(lambda x: int(x)).values.tolist()\n",
    "df.to_csv(\"../products/fantom-mpx-balances.csv\", index=False, float_format='%g')\n",
    "sum(df['balance']) / 1e18"
   ]
  },
  {
   "cell_type": "markdown",
   "id": "a02e6b70-404c-43af-b86d-091dfb09729e",
   "metadata": {},
   "source": [
    "## Single-staked MPX"
   ]
  },
  {
   "cell_type": "code",
   "execution_count": 4,
   "id": "7200a7f6-5305-4855-b5eb-17b0a1ad5501",
   "metadata": {},
   "outputs": [
    {
     "data": {
      "text/plain": [
       "4510"
      ]
     },
     "execution_count": 4,
     "metadata": {},
     "output_type": "execute_result"
    }
   ],
   "source": [
    "with open(\"../data/fantom-staked-mpx.json\", \"r\") as f:\n",
    "    mpx_call_results = json.load(f)\n",
    "len(mpx_call_results)"
   ]
  },
  {
   "cell_type": "code",
   "execution_count": 5,
   "id": "c9f03f30-cc26-414f-878d-64e45774e172",
   "metadata": {},
   "outputs": [
    {
     "data": {
      "text/plain": [
       "7574403.20438577"
      ]
     },
     "execution_count": 5,
     "metadata": {},
     "output_type": "execute_result"
    }
   ],
   "source": [
    "mpx_balances = {}\n",
    "for key, value in mpx_call_results.items():\n",
    "    if value > 0:\n",
    "        mpx_balances[parse_address(key)] = value\n",
    "\n",
    "df = pd.DataFrame.from_dict(mpx_balances, orient=\"index\", columns=[\"balance\"])\n",
    "df[\"address\"] = df.index\n",
    "df.reset_index(drop=True, inplace=True)\n",
    "df = df[[\"address\", \"balance\"]]\n",
    "df['balance'] = df['balance'].apply(lambda x: int(x)).values.tolist()\n",
    "df.to_csv(\"../products/fantom-smpx-balances.csv\", index=False, float_format='%g')\n",
    "sum(df['balance']) / 1e18"
   ]
  },
  {
   "cell_type": "markdown",
   "id": "95cecd2d-112e-4163-a2ac-9f560e5c2a42",
   "metadata": {},
   "source": [
    "## Staked MLP"
   ]
  },
  {
   "cell_type": "code",
   "execution_count": 6,
   "id": "7286f7fd-eb8b-410b-b992-8fb0aa27766e",
   "metadata": {},
   "outputs": [
    {
     "data": {
      "text/plain": [
       "4510"
      ]
     },
     "execution_count": 6,
     "metadata": {},
     "output_type": "execute_result"
    }
   ],
   "source": [
    "with open(\"../data/fantom-staked-mlp.json\", \"r\") as f:\n",
    "    mlp_call_results = json.load(f)\n",
    "len(mlp_call_results)"
   ]
  },
  {
   "cell_type": "code",
   "execution_count": 7,
   "id": "9da2e103-7852-4043-8275-3eb34e76daae",
   "metadata": {},
   "outputs": [
    {
     "data": {
      "text/plain": [
       "1461026.6865648555"
      ]
     },
     "execution_count": 7,
     "metadata": {},
     "output_type": "execute_result"
    }
   ],
   "source": [
    "mlp_balances = {}\n",
    "for key, value in mlp_call_results.items():\n",
    "    if value > 0:\n",
    "        mlp_balances[parse_address(key)] = value\n",
    "\n",
    "df = pd.DataFrame.from_dict(mlp_balances, orient=\"index\", columns=[\"balance\"])\n",
    "df[\"address\"] = df.index\n",
    "df.reset_index(drop=True, inplace=True)\n",
    "df = df[[\"address\", \"balance\"]]\n",
    "df['balance'] = df['balance'].apply(lambda x: int(x)).values.tolist()\n",
    "df.to_csv(\"../products/fantom-fsmlp-balances.csv\", index=False, float_format='%g')\n",
    "sum(df['balance']) / 1e18"
   ]
  }
 ],
 "metadata": {
  "kernelspec": {
   "display_name": "Python 3 (ipykernel)",
   "language": "python",
   "name": "python3"
  },
  "language_info": {
   "codemirror_mode": {
    "name": "ipython",
    "version": 3
   },
   "file_extension": ".py",
   "mimetype": "text/x-python",
   "name": "python",
   "nbconvert_exporter": "python",
   "pygments_lexer": "ipython3",
   "version": "3.9.16"
  }
 },
 "nbformat": 4,
 "nbformat_minor": 5
}
