{
 "cells": [
  {
   "cell_type": "markdown",
   "id": "986a4009-0c2e-49da-9367-6207f25e5c53",
   "metadata": {},
   "source": [
    "# FVM WFTM-MPX LP"
   ]
  },
  {
   "cell_type": "code",
   "execution_count": 2,
   "id": "02405e81-b2eb-4975-8cc8-61931653929a",
   "metadata": {},
   "outputs": [
    {
     "data": {
      "text/plain": [
       "4511"
      ]
     },
     "execution_count": 2,
     "metadata": {},
     "output_type": "execute_result"
    }
   ],
   "source": [
    "import os\n",
    "import json\n",
    "import pandas as pd\n",
    "\n",
    "mpx_erc20_address = \"0x66eEd5FF1701E6ed8470DC391F05e27B1d0657eb\"\n",
    "fvm_wftm_mpx_address = \"0xF8eed2665FD11a8431fc41b2582fD5E72a1606f0\"\n",
    "fvm_wftm_mpx_gauge = \"0xF89f367E0225fE68c7c28Fad0BaDc7f569987cFe\"\n",
    "\n",
    "with open(\"../data/fantom-addresses.json\", \"r\") as f:\n",
    "    addresses = json.load(f)\n",
    "len(addresses)"
   ]
  },
  {
   "cell_type": "markdown",
   "id": "c97028bb-1cc1-4be8-a6fa-f4e3d7296ec0",
   "metadata": {},
   "source": [
    "## FVM WFTM-MPX LP\n",
    "\n",
    "First we obtain the MPX balance for the Fvm LP.\n",
    "These balances are queried from the MPX ERC-20 contract.\n",
    "\n",
    "**Note: the balance is 0 at the time of the snapshot, which predates the contract deployment.**"
   ]
  },
  {
   "cell_type": "code",
   "execution_count": 13,
   "id": "e395e488-9d79-4dc0-9449-54e3f452d7a3",
   "metadata": {},
   "outputs": [
    {
     "data": {
      "text/plain": [
       "675025.619113913"
      ]
     },
     "execution_count": 13,
     "metadata": {},
     "output_type": "execute_result"
    }
   ],
   "source": [
    "from chaino.scheduler.call import parse_address\n",
    "with open(\"../data/fantom-mpx-current.json\", \"r\") as f:\n",
    "    mpx_erc20_current_raw = json.load(f)\n",
    "\n",
    "mpx_erc20_balances = dict([(parse_address(k), v) for k, v in mpx_erc20_current_raw.items()])\n",
    "\n",
    "pool_mpx_total = mpx_erc20_balances[fvm_wftm_mpx_address]\n",
    "pool_mpx_total / 1e18"
   ]
  },
  {
   "cell_type": "markdown",
   "id": "5e8638ae-ff79-4b69-bdd3-d2c9e745399d",
   "metadata": {},
   "source": [
    "Then we obtain the balances of the Fvm WFTM-MPX LP.\n",
    "This represents the distribution of MPX provided for liquidity."
   ]
  },
  {
   "cell_type": "code",
   "execution_count": 14,
   "id": "4b198566-7701-4259-9de0-62c4aa19645b",
   "metadata": {},
   "outputs": [
    {
     "data": {
      "text/plain": [
       "4510"
      ]
     },
     "execution_count": 14,
     "metadata": {},
     "output_type": "execute_result"
    }
   ],
   "source": [
    "with open(\"../data/fantom-fvm-lp.json\", \"r\") as f:\n",
    "    fvm_call_results = json.load(f)\n",
    "len(fvm_call_results)"
   ]
  },
  {
   "cell_type": "code",
   "execution_count": 15,
   "id": "66c30cca-0ab9-4c4e-be84-c20378387b16",
   "metadata": {},
   "outputs": [
    {
     "data": {
      "text/plain": [
       "422240.41656869074"
      ]
     },
     "execution_count": 15,
     "metadata": {},
     "output_type": "execute_result"
    }
   ],
   "source": [
    "fvm_lp_balances = {}\n",
    "for key, value in fvm_call_results.items():\n",
    "    if value > 0:\n",
    "        fvm_lp_balances[parse_address(key)] = value\n",
    "\n",
    "pool_lp_total = sum(fvm_lp_balances.values())\n",
    "pool_lp_total / 1e18"
   ]
  },
  {
   "cell_type": "markdown",
   "id": "f6aeffcd-a475-4455-adc6-8d1938e7b691",
   "metadata": {},
   "source": [
    "## Fvm WFTM-MPX Gauges"
   ]
  },
  {
   "cell_type": "markdown",
   "id": "5472bd06-14a9-4564-85fc-d451a86f39c8",
   "metadata": {},
   "source": [
    "Most of the LP is controlled by a gauge.\n",
    "So, we must examine gauge contract balances to find the actual addresses that control the MPX."
   ]
  },
  {
   "cell_type": "code",
   "execution_count": 16,
   "id": "08986fa6-3976-47a4-8ad1-8e2bbdf22ff5",
   "metadata": {},
   "outputs": [
    {
     "data": {
      "text/plain": [
       "4510"
      ]
     },
     "execution_count": 16,
     "metadata": {},
     "output_type": "execute_result"
    }
   ],
   "source": [
    "with open(\"../data/fantom-fvm-gauge.json\", \"r\") as f:\n",
    "    fvm_gauge_call_results = json.load(f)\n",
    "len(fvm_gauge_call_results)"
   ]
  },
  {
   "cell_type": "code",
   "execution_count": 17,
   "id": "5590efb9-7dd6-4f2d-8207-459a8bfca5b3",
   "metadata": {},
   "outputs": [
    {
     "data": {
      "text/plain": [
       "175893.6460391088"
      ]
     },
     "execution_count": 17,
     "metadata": {},
     "output_type": "execute_result"
    }
   ],
   "source": [
    "fvm_gauge_balances = {}\n",
    "for key, value in fvm_gauge_call_results.items():\n",
    "    if value > 0:\n",
    "        fvm_gauge_balances[parse_address(key)] = value\n",
    "\n",
    "gauge_lp_total = sum(fvm_gauge_balances.values())\n",
    "sum(fvm_gauge_balances.values()) / 1e18"
   ]
  },
  {
   "cell_type": "markdown",
   "id": "2b04d609-05f6-43e8-82e1-b99d0479cf15",
   "metadata": {},
   "source": [
    "## Attribute MPX to LP and Gauge"
   ]
  },
  {
   "cell_type": "markdown",
   "id": "5db94b52-3edd-4b88-9f75-2600cbe8ae50",
   "metadata": {},
   "source": [
    "Finally, we attribute MPX to original addresses.\n",
    "The MPX controlled by each address is held in proportion to the LP tokens controlled by that address."
   ]
  },
  {
   "cell_type": "markdown",
   "id": "e3be94fc-c379-49b6-81fe-b480c4a62001",
   "metadata": {},
   "source": [
    "Step 1. Examine the LP and directly assign LP to non-gauge addresses."
   ]
  },
  {
   "cell_type": "code",
   "execution_count": 18,
   "id": "e157dd1b-5d8b-4240-a712-6fc00bdf83b9",
   "metadata": {},
   "outputs": [
    {
     "data": {
      "text/plain": [
       "0.0"
      ]
     },
     "execution_count": 18,
     "metadata": {},
     "output_type": "execute_result"
    }
   ],
   "source": [
    "fvm_lp_attributed_balances = {}\n",
    "for key, value in fvm_call_results.items():\n",
    "    if value > 0 and parse_address(key) != fvm_wftm_mpx_gauge:\n",
    "        fvm_lp_attributed_balances[parse_address(key)] = value\n",
    "sum(fvm_lp_attributed_balances.values()) / 1e18"
   ]
  },
  {
   "cell_type": "markdown",
   "id": "0529e8b8-5f4b-4122-802b-4fed81c66689",
   "metadata": {},
   "source": [
    "Step 2. Examine Gauges and assign LP to addresses.\n",
    "First determine how much LP is controlled by a gauge, then assign LP based on proportion of gauge."
   ]
  },
  {
   "cell_type": "code",
   "execution_count": 19,
   "id": "4e2ef883-3069-4793-81e2-3a902d40b2d8",
   "metadata": {},
   "outputs": [
    {
     "data": {
      "text/plain": [
       "422240.41656869074"
      ]
     },
     "execution_count": 19,
     "metadata": {},
     "output_type": "execute_result"
    }
   ],
   "source": [
    "lp_controlled_by_gauge = fvm_lp_balances[fvm_wftm_mpx_gauge]\n",
    "lp_controlled_by_gauge / 1e18"
   ]
  },
  {
   "cell_type": "code",
   "execution_count": 20,
   "id": "9ea320b4-31f4-4142-a406-0e6b2bb6fe82",
   "metadata": {},
   "outputs": [
    {
     "data": {
      "text/plain": [
       "422240.4165686906"
      ]
     },
     "execution_count": 20,
     "metadata": {},
     "output_type": "execute_result"
    }
   ],
   "source": [
    "for key, value in fvm_gauge_call_results.items():\n",
    "    if value > 0 and parse_address(key) != fvm_wftm_mpx_gauge:\n",
    "        fvm_lp_attributed_balances[parse_address(key)] = (value / gauge_lp_total) * lp_controlled_by_gauge\n",
    "sum(fvm_lp_attributed_balances.values()) / 1e18"
   ]
  },
  {
   "cell_type": "code",
   "execution_count": 21,
   "id": "655beaba-bfc0-435d-926c-5f8c5aca6233",
   "metadata": {},
   "outputs": [
    {
     "data": {
      "text/plain": [
       "100.0"
      ]
     },
     "execution_count": 21,
     "metadata": {},
     "output_type": "execute_result"
    }
   ],
   "source": [
    "(1 - ((pool_lp_total - sum(fvm_lp_balances.values())) / pool_lp_total)) * 100"
   ]
  },
  {
   "cell_type": "markdown",
   "id": "4dad0a02-1be8-442a-a128-e44651ed2ab1",
   "metadata": {},
   "source": [
    "We have attributed all of the LP.\n",
    "\n",
    "## Final export of balances"
   ]
  },
  {
   "cell_type": "code",
   "execution_count": 22,
   "id": "2dfe0d94-38ac-43d0-9419-94927e71e374",
   "metadata": {},
   "outputs": [
    {
     "data": {
      "text/plain": [
       "422240.41656869056"
      ]
     },
     "execution_count": 22,
     "metadata": {},
     "output_type": "execute_result"
    }
   ],
   "source": [
    "df = pd.DataFrame.from_dict(fvm_lp_attributed_balances, orient=\"index\", columns=[\"lp_balance\"])\n",
    "df[\"address\"] = df.index\n",
    "df.reset_index(drop=True, inplace=True)\n",
    "df = df[[\"address\", \"lp_balance\"]]\n",
    "df['mpx_balance'] = (df['lp_balance'] / pool_lp_total) * pool_mpx_total\n",
    "df['lp_balance'] = df['lp_balance'].apply(lambda x: int(x)).values.tolist()\n",
    "df['mpx_balance'] = df['mpx_balance'].apply(lambda x: int(x)).values.tolist()\n",
    "df.to_csv(\"../products/fantom-fvm-balances.csv\", index=False, float_format='%g')\n",
    "sum(df['lp_balance']) / 1e18"
   ]
  }
 ],
 "metadata": {
  "kernelspec": {
   "display_name": "Python 3 (ipykernel)",
   "language": "python",
   "name": "python3"
  },
  "language_info": {
   "codemirror_mode": {
    "name": "ipython",
    "version": 3
   },
   "file_extension": ".py",
   "mimetype": "text/x-python",
   "name": "python",
   "nbconvert_exporter": "python",
   "pygments_lexer": "ipython3",
   "version": "3.9.16"
  }
 },
 "nbformat": 4,
 "nbformat_minor": 5
}
