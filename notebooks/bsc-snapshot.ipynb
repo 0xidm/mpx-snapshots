{
 "cells": [
  {
   "cell_type": "code",
   "execution_count": 3,
   "id": "f31670a1-2693-42c7-a902-5e856553aac3",
   "metadata": {},
   "outputs": [],
   "source": [
    "import os\n",
    "import json\n",
    "import pandas as pd\n",
    "from chaino.rpc import RPC"
   ]
  },
  {
   "cell_type": "markdown",
   "id": "63df7270-ede2-40da-8f4c-18e215cfb27f",
   "metadata": {},
   "source": [
    "## Load BSC transactions\n",
    "\n",
    "The first stage of this snapshot used an archive of the Binance Smart Chain, which was queried from the official Binance RPC servers.\n",
    "\n",
    "The BSC archive contains blocks ranging from 28904155 to 29984961 (2023-06-07 to 2023-07-15)."
   ]
  },
  {
   "cell_type": "code",
   "execution_count": 4,
   "id": "70af8be2-e603-4502-bc89-a2682dd12291",
   "metadata": {},
   "outputs": [
    {
     "data": {
      "text/html": [
       "<div>\n",
       "<style scoped>\n",
       "    .dataframe tbody tr th:only-of-type {\n",
       "        vertical-align: middle;\n",
       "    }\n",
       "\n",
       "    .dataframe tbody tr th {\n",
       "        vertical-align: top;\n",
       "    }\n",
       "\n",
       "    .dataframe thead th {\n",
       "        text-align: right;\n",
       "    }\n",
       "</style>\n",
       "<table border=\"1\" class=\"dataframe\">\n",
       "  <thead>\n",
       "    <tr style=\"text-align: right;\">\n",
       "      <th></th>\n",
       "      <th>block_id</th>\n",
       "      <th>tx_hash</th>\n",
       "      <th>method</th>\n",
       "      <th>from</th>\n",
       "      <th>to</th>\n",
       "      <th>quantity</th>\n",
       "    </tr>\n",
       "  </thead>\n",
       "  <tbody>\n",
       "    <tr>\n",
       "      <th>0</th>\n",
       "      <td>28904155</td>\n",
       "      <td>0xec988543685dc345007c0562845dd1ed015d8312f0ca...</td>\n",
       "      <td>0xa9059cbb</td>\n",
       "      <td>0xe2fc31F816A9b94326492132018C3aEcC4a93aE1</td>\n",
       "      <td>0xAD29AbB318791D579433D831ed122aFeAf29dcfe</td>\n",
       "      <td>0</td>\n",
       "    </tr>\n",
       "    <tr>\n",
       "      <th>1</th>\n",
       "      <td>28904155</td>\n",
       "      <td>0xf86a744f01f6f32a84a1243317d03e32ef23df04c6b5...</td>\n",
       "      <td>0xa9059cbb</td>\n",
       "      <td>0xa180Fe01B906A1bE37BE6c534a3300785b20d947</td>\n",
       "      <td>0x55d398326f99059fF775485246999027B3197955</td>\n",
       "      <td>0</td>\n",
       "    </tr>\n",
       "    <tr>\n",
       "      <th>2</th>\n",
       "      <td>28904155</td>\n",
       "      <td>0x613ebd5603a636f8e432c57c10986c5242aff623ab86...</td>\n",
       "      <td>0xa9059cbb</td>\n",
       "      <td>0xdccF3B77dA55107280bd850ea519DF3705D1a75a</td>\n",
       "      <td>0xe9e7CEA3DedcA5984780Bafc599bD69ADd087D56</td>\n",
       "      <td>0</td>\n",
       "    </tr>\n",
       "    <tr>\n",
       "      <th>3</th>\n",
       "      <td>28904155</td>\n",
       "      <td>0xa83cb64ed72df1108d9cde2a1e9ffd89b3af75d864c8...</td>\n",
       "      <td>0xa9059cbb</td>\n",
       "      <td>0xEB2d2F1b8c558a40207669291Fda468E50c8A0bB</td>\n",
       "      <td>0x55d398326f99059fF775485246999027B3197955</td>\n",
       "      <td>0</td>\n",
       "    </tr>\n",
       "    <tr>\n",
       "      <th>4</th>\n",
       "      <td>28904155</td>\n",
       "      <td>0xfa6e2c53384f41d5b3a0299855a517e31267013af931...</td>\n",
       "      <td>0xa9059cbb</td>\n",
       "      <td>0x8894E0a0c962CB723c1976a4421c95949bE2D4E3</td>\n",
       "      <td>0x09E889BB4D5b474f561db0491C38702F367A4e4d</td>\n",
       "      <td>0</td>\n",
       "    </tr>\n",
       "  </tbody>\n",
       "</table>\n",
       "</div>"
      ],
      "text/plain": [
       "   block_id                                            tx_hash      method  \\\n",
       "0  28904155  0xec988543685dc345007c0562845dd1ed015d8312f0ca...  0xa9059cbb   \n",
       "1  28904155  0xf86a744f01f6f32a84a1243317d03e32ef23df04c6b5...  0xa9059cbb   \n",
       "2  28904155  0x613ebd5603a636f8e432c57c10986c5242aff623ab86...  0xa9059cbb   \n",
       "3  28904155  0xa83cb64ed72df1108d9cde2a1e9ffd89b3af75d864c8...  0xa9059cbb   \n",
       "4  28904155  0xfa6e2c53384f41d5b3a0299855a517e31267013af931...  0xa9059cbb   \n",
       "\n",
       "                                         from  \\\n",
       "0  0xe2fc31F816A9b94326492132018C3aEcC4a93aE1   \n",
       "1  0xa180Fe01B906A1bE37BE6c534a3300785b20d947   \n",
       "2  0xdccF3B77dA55107280bd850ea519DF3705D1a75a   \n",
       "3  0xEB2d2F1b8c558a40207669291Fda468E50c8A0bB   \n",
       "4  0x8894E0a0c962CB723c1976a4421c95949bE2D4E3   \n",
       "\n",
       "                                           to quantity  \n",
       "0  0xAD29AbB318791D579433D831ed122aFeAf29dcfe        0  \n",
       "1  0x55d398326f99059fF775485246999027B3197955        0  \n",
       "2  0xe9e7CEA3DedcA5984780Bafc599bD69ADd087D56        0  \n",
       "3  0x55d398326f99059fF775485246999027B3197955        0  \n",
       "4  0x09E889BB4D5b474f561db0491C38702F367A4e4d        0  "
      ]
     },
     "execution_count": 4,
     "metadata": {},
     "output_type": "execute_result"
    }
   ],
   "source": [
    "bsc_txs_filename = os.path.expanduser(\"../var/bsc-txs.csv.gz\")\n",
    "txs = pd.read_csv(bsc_txs_filename)\n",
    "txs.head()"
   ]
  },
  {
   "cell_type": "markdown",
   "id": "3512ce89-3220-410a-bcc0-f35167dc6707",
   "metadata": {},
   "source": [
    "## Identify interacting wallet addresses\n",
    "\n",
    "This snapshot begins by identifying all the addresses that ever interacted with Morphex contracts.\n",
    "This list of addresses will be used in the next stage to query balances on-chain."
   ]
  },
  {
   "cell_type": "code",
   "execution_count": 5,
   "id": "e6354463-e5dc-47cb-871a-8bcad862a35d",
   "metadata": {},
   "outputs": [],
   "source": [
    "mpx_erc20_address = \"0x94C6B279b5df54b335aE51866d6E2A56BF5Ef9b7\"\n",
    "fsmlp_erc20_address = \"0x4e0e48b787E308049d0CA6bfAA84D5c61c5a4A1e\"\n",
    "thena_mpx_wbnb_address = \"0x51BfC6e47c96d2b8c564B0DdD2C44fC03707cdc7\" # LP ERC-20\n",
    "thena_mpx_wbnb_gauge = \"0x0d739cE843d0584aAE800f54685d1fa69cEC1190\" # GaugeV2"
   ]
  },
  {
   "cell_type": "markdown",
   "id": "7321f0eb-6a22-400a-934c-b3d9ab496253",
   "metadata": {},
   "source": [
    "### MPX ERC-20"
   ]
  },
  {
   "cell_type": "code",
   "execution_count": 6,
   "id": "5d768a29-6c0f-4f58-9772-a581920dd2b4",
   "metadata": {},
   "outputs": [
    {
     "data": {
      "text/plain": [
       "718"
      ]
     },
     "execution_count": 6,
     "metadata": {},
     "output_type": "execute_result"
    }
   ],
   "source": [
    "mpx_txs = txs.query(f'to == \"{mpx_erc20_address}\"')\n",
    "len(mpx_txs)"
   ]
  },
  {
   "cell_type": "code",
   "execution_count": 7,
   "id": "9dd5152f-d18f-4368-905a-f9cd2ad40597",
   "metadata": {},
   "outputs": [
    {
     "data": {
      "text/plain": [
       "251"
      ]
     },
     "execution_count": 7,
     "metadata": {},
     "output_type": "execute_result"
    }
   ],
   "source": [
    "unique_mpx_addresses = set(mpx_txs['from'])\n",
    "len(unique_mpx_addresses)"
   ]
  },
  {
   "cell_type": "markdown",
   "id": "add55149-3960-4f50-9349-029638c9171b",
   "metadata": {},
   "source": [
    "### fsMLP ERC-20"
   ]
  },
  {
   "cell_type": "code",
   "execution_count": 8,
   "id": "bbbcdea0-befd-40b4-bf18-a8500331b87a",
   "metadata": {},
   "outputs": [
    {
     "data": {
      "text/plain": [
       "7"
      ]
     },
     "execution_count": 8,
     "metadata": {},
     "output_type": "execute_result"
    }
   ],
   "source": [
    "fsmlp_txs = txs.query(f'to == \"{fsmlp_erc20_address}\"')\n",
    "len(fsmlp_txs)"
   ]
  },
  {
   "cell_type": "code",
   "execution_count": 9,
   "id": "b290199d-3471-4a49-96bd-78d833b5b23c",
   "metadata": {},
   "outputs": [
    {
     "data": {
      "text/plain": [
       "1"
      ]
     },
     "execution_count": 9,
     "metadata": {},
     "output_type": "execute_result"
    }
   ],
   "source": [
    "unique_fsmlp_addresses = set(fsmlp_txs['from'])\n",
    "len(unique_fsmlp_addresses)"
   ]
  },
  {
   "cell_type": "markdown",
   "id": "43792ddc-2650-43ac-8dc3-55ffca5ef6ad",
   "metadata": {},
   "source": [
    "### Thena MPX-WBNB LP"
   ]
  },
  {
   "cell_type": "code",
   "execution_count": 10,
   "id": "f556c01e-f3ff-4faf-ad01-3f904cf7ddee",
   "metadata": {},
   "outputs": [
    {
     "data": {
      "text/plain": [
       "235"
      ]
     },
     "execution_count": 10,
     "metadata": {},
     "output_type": "execute_result"
    }
   ],
   "source": [
    "thena_txs = txs.query(f'to == \"{thena_mpx_wbnb_address}\"')\n",
    "len(thena_txs)"
   ]
  },
  {
   "cell_type": "code",
   "execution_count": 11,
   "id": "52ec8433-ce9d-4670-944e-c5d29a3ede4b",
   "metadata": {},
   "outputs": [
    {
     "data": {
      "text/plain": [
       "86"
      ]
     },
     "execution_count": 11,
     "metadata": {},
     "output_type": "execute_result"
    }
   ],
   "source": [
    "unique_thena_addresses = set(thena_txs['from'])\n",
    "len(unique_thena_addresses)"
   ]
  },
  {
   "cell_type": "markdown",
   "id": "1e45f2ad-c070-46f0-a08e-320e81e1842d",
   "metadata": {},
   "source": [
    "### Thena MPX-WBNB Gauge"
   ]
  },
  {
   "cell_type": "code",
   "execution_count": 12,
   "id": "ad97dd07-5700-4da2-9e07-772fa77dcc44",
   "metadata": {},
   "outputs": [
    {
     "data": {
      "text/plain": [
       "613"
      ]
     },
     "execution_count": 12,
     "metadata": {},
     "output_type": "execute_result"
    }
   ],
   "source": [
    "thena_gauge_txs = txs.query(f'to == \"{thena_mpx_wbnb_gauge}\"')\n",
    "len(thena_gauge_txs)"
   ]
  },
  {
   "cell_type": "code",
   "execution_count": 13,
   "id": "301a4125-f232-4081-904d-483b0635c121",
   "metadata": {},
   "outputs": [
    {
     "data": {
      "text/plain": [
       "86"
      ]
     },
     "execution_count": 13,
     "metadata": {},
     "output_type": "execute_result"
    }
   ],
   "source": [
    "unique_thena_gauge_addresses = set(thena_gauge_txs['from'])\n",
    "len(unique_thena_gauge_addresses)"
   ]
  },
  {
   "cell_type": "markdown",
   "id": "ad06f06c-a817-48a0-a5f0-8239ec60cf71",
   "metadata": {},
   "source": [
    "### Combine unique addresses"
   ]
  },
  {
   "cell_type": "code",
   "execution_count": 16,
   "id": "42a4a9ab-9199-4d4d-b914-0bcd3506222d",
   "metadata": {},
   "outputs": [
    {
     "data": {
      "text/plain": [
       "253"
      ]
     },
     "execution_count": 16,
     "metadata": {},
     "output_type": "execute_result"
    }
   ],
   "source": [
    "addresses = unique_mpx_addresses | unique_thena_addresses | unique_thena_gauge_addresses | unique_fsmlp_addresses\n",
    "addresses = list(addresses)\n",
    "addresses.append(thena_mpx_wbnb_address) # also get balances for Thena LP\n",
    "addresses.append(thena_mpx_wbnb_gauge) # also get balances for Thena LP\n",
    "addresses = sorted(addresses)\n",
    "with open(\"../data/bsc-addresses.json\", \"w\") as f:\n",
    "    json.dump(addresses, f, indent=2)\n",
    "len(addresses)"
   ]
  },
  {
   "cell_type": "markdown",
   "id": "9259b675-c540-4ddb-9646-a68b504529ef",
   "metadata": {},
   "source": [
    "## Call contracts on-chain to obtain balances\n",
    "\n",
    "Binance RPCs  permit `eth_call` to be executed against a historical block.\n",
    "For this snapshot, we queried contracts on-chain at block `29541500` (June 30, 2:20 UTC)."
   ]
  },
  {
   "cell_type": "code",
   "execution_count": 19,
   "id": "43e13500-f500-4b11-8d76-3f6d7937af24",
   "metadata": {},
   "outputs": [],
   "source": [
    "def parse_address(item):\n",
    "    return item.split(\",\")[2].split(\"'\")[1]"
   ]
  },
  {
   "cell_type": "markdown",
   "id": "f18365a4-efad-4623-a73f-6d52bc34aa06",
   "metadata": {},
   "source": [
    "### MPX ERC-20\n",
    "\n",
    "Obtain balances for all interacting addresses, including Thena LPs."
   ]
  },
  {
   "cell_type": "code",
   "execution_count": 17,
   "id": "86a4583e-bdd4-4501-a4af-fdcc274b7cfc",
   "metadata": {},
   "outputs": [
    {
     "data": {
      "text/plain": [
       "253"
      ]
     },
     "execution_count": 17,
     "metadata": {},
     "output_type": "execute_result"
    }
   ],
   "source": [
    "with open(\"../data/bsc-mpx-erc20.json\", \"r\") as f:\n",
    "    mpx_erc20_call_results = json.load(f)\n",
    "len(mpx_erc20_call_results)"
   ]
  },
  {
   "cell_type": "code",
   "execution_count": 36,
   "id": "81d29020-e48e-41d5-8c8f-b83ff6ab3180",
   "metadata": {},
   "outputs": [
    {
     "data": {
      "text/plain": [
       "579031.2252789183"
      ]
     },
     "execution_count": 36,
     "metadata": {},
     "output_type": "execute_result"
    }
   ],
   "source": [
    "mpx_erc20_balances = {}\n",
    "for key, value in mpx_erc20_call_results.items():\n",
    "    if value > 0:\n",
    "        mpx_erc20_balances[parse_address(key)] = value\n",
    "\n",
    "df = pd.DataFrame.from_dict(mpx_erc20_balances, orient=\"index\", columns=[\"balance\"])\n",
    "df[\"address\"] = df.index\n",
    "df.reset_index(drop=True, inplace=True)\n",
    "df = df[[\"address\", \"balance\"]]\n",
    "df['balance'] = df['balance'].apply(lambda x: int(x)).values.tolist()\n",
    "df = df.sort_values(by='address')\n",
    "df.to_csv(\"../products/bsc-mpx-balances.csv\", index=False, float_format='%g')\n",
    "sum(df['balance']) / 1e18"
   ]
  },
  {
   "cell_type": "markdown",
   "id": "b4f7f076-b38f-4631-9955-1af476c7e74d",
   "metadata": {},
   "source": [
    "### fsMLP ERC-20"
   ]
  },
  {
   "cell_type": "code",
   "execution_count": 21,
   "id": "17bd52d9-3817-4e07-b2f0-e433207b20df",
   "metadata": {},
   "outputs": [
    {
     "data": {
      "text/plain": [
       "253"
      ]
     },
     "execution_count": 21,
     "metadata": {},
     "output_type": "execute_result"
    }
   ],
   "source": [
    "with open(\"../data/bsc-fsmlp.json\", \"r\") as f:\n",
    "    fsmlp_call_results = json.load(f)\n",
    "len(fsmlp_call_results)"
   ]
  },
  {
   "cell_type": "code",
   "execution_count": 35,
   "id": "c35cfd5b-4d93-4aec-a6d5-1292560cc47d",
   "metadata": {},
   "outputs": [
    {
     "data": {
      "text/plain": [
       "406866.8452357426"
      ]
     },
     "execution_count": 35,
     "metadata": {},
     "output_type": "execute_result"
    }
   ],
   "source": [
    "fsmlp_balances = {}\n",
    "for key, value in fsmlp_call_results.items():\n",
    "    if value > 0:\n",
    "        fsmlp_balances[parse_address(key)] = value\n",
    "\n",
    "df = pd.DataFrame.from_dict(fsmlp_balances, orient=\"index\", columns=[\"balance\"])\n",
    "df[\"address\"] = df.index\n",
    "df.reset_index(drop=True, inplace=True)\n",
    "df = df[[\"address\", \"balance\"]]\n",
    "df['balance'] = df['balance'].apply(lambda x: int(x)).values.tolist()\n",
    "df = df.sort_values(by='address')\n",
    "df.to_csv(\"../products/bsc-fsmlp-balances.csv\", index=False, float_format='%g')\n",
    "sum(df['balance']) / 1e18"
   ]
  },
  {
   "cell_type": "markdown",
   "id": "4c4fad9f-7294-4d71-90d3-0ce5e020654d",
   "metadata": {},
   "source": [
    "### Thena MPX-WBNB LP\n",
    "\n",
    "First we obtain the MPX balance for the Thena LP.\n",
    "These balances are queried from the MPX ERC-20 contract."
   ]
  },
  {
   "cell_type": "code",
   "execution_count": 23,
   "id": "8382a44c-7661-4242-a9be-2942f801a429",
   "metadata": {},
   "outputs": [
    {
     "data": {
      "text/plain": [
       "512223.09595500864"
      ]
     },
     "execution_count": 23,
     "metadata": {},
     "output_type": "execute_result"
    }
   ],
   "source": [
    "pool_mpx_total = mpx_erc20_balances[thena_mpx_wbnb_address]\n",
    "pool_mpx_total / 1e18"
   ]
  },
  {
   "cell_type": "markdown",
   "id": "a9e59174-6943-4b8c-8cfb-b23bfbb005b2",
   "metadata": {},
   "source": [
    "Then we obtain the balances of the thena mpx-wbnb LP.\n",
    "This represents the distribution of MPX provided for liquidity."
   ]
  },
  {
   "cell_type": "code",
   "execution_count": 24,
   "id": "3f9a96ad-7b3b-417a-a054-9fcf2bb6dc9c",
   "metadata": {},
   "outputs": [
    {
     "data": {
      "text/plain": [
       "253"
      ]
     },
     "execution_count": 24,
     "metadata": {},
     "output_type": "execute_result"
    }
   ],
   "source": [
    "with open(\"../data/bsc-thena-lp.json\", \"r\") as f:\n",
    "    thena_call_results = json.load(f)\n",
    "len(thena_call_results)"
   ]
  },
  {
   "cell_type": "code",
   "execution_count": 25,
   "id": "caf6a530-c1e1-460d-aa4f-2098b61e49d6",
   "metadata": {},
   "outputs": [
    {
     "data": {
      "text/plain": [
       "12257.44775264915"
      ]
     },
     "execution_count": 25,
     "metadata": {},
     "output_type": "execute_result"
    }
   ],
   "source": [
    "thena_lp_balances = {}\n",
    "for key, value in thena_call_results.items():\n",
    "    if value > 0:\n",
    "        thena_lp_balances[parse_address(key)] = value\n",
    "\n",
    "pool_lp_total = sum(thena_lp_balances.values())\n",
    "pool_lp_total / 1e18"
   ]
  },
  {
   "cell_type": "markdown",
   "id": "d772d354-03c6-4647-a875-8b38aefae44a",
   "metadata": {},
   "source": [
    "### Thena MPX-WBNB Gauges\n",
    "\n",
    "Most of the LP is controlled by a gauge.\n",
    "So, we must examine gauge contract balances to find the actual addresses that control the MPX."
   ]
  },
  {
   "cell_type": "code",
   "execution_count": 26,
   "id": "d5b80935-8bd4-411b-b846-5e86dae8564c",
   "metadata": {},
   "outputs": [
    {
     "data": {
      "text/plain": [
       "253"
      ]
     },
     "execution_count": 26,
     "metadata": {},
     "output_type": "execute_result"
    }
   ],
   "source": [
    "with open(\"../data/bsc-thena-gauge.json\", \"r\") as f:\n",
    "    thena_gauge_call_results = json.load(f)\n",
    "len(thena_gauge_call_results)"
   ]
  },
  {
   "cell_type": "code",
   "execution_count": 27,
   "id": "7b66ec2d-7351-48a5-a5d3-b706b4096b3c",
   "metadata": {},
   "outputs": [
    {
     "data": {
      "text/plain": [
       "5507.026316223062"
      ]
     },
     "execution_count": 27,
     "metadata": {},
     "output_type": "execute_result"
    }
   ],
   "source": [
    "thena_gauge_balances = {}\n",
    "for key, value in thena_gauge_call_results.items():\n",
    "    if value > 0:\n",
    "        thena_gauge_balances[parse_address(key)] = value\n",
    "\n",
    "gauge_lp_total = sum(thena_gauge_balances.values())\n",
    "sum(thena_gauge_balances.values()) / 1e18"
   ]
  },
  {
   "cell_type": "markdown",
   "id": "fa2dbdb9-e89d-4a69-97dc-a821692ea1fc",
   "metadata": {},
   "source": [
    "### Attribute MPX to LP and Gauge"
   ]
  },
  {
   "cell_type": "markdown",
   "id": "dbd87fa4-e49d-4495-a65b-cb80792b71a1",
   "metadata": {},
   "source": [
    "Finally, we attribute MPX to original addresses.\n",
    "The MPX controlled by each address is held in proportion to the LP tokens controlled by that address."
   ]
  },
  {
   "cell_type": "markdown",
   "id": "3a2d70fe-37bb-4232-947c-5f62cce892ed",
   "metadata": {},
   "source": [
    "Step 1. Examine the LP and directly assign LP to non-gauge addresses."
   ]
  },
  {
   "cell_type": "code",
   "execution_count": 28,
   "id": "0dddddad-3d4e-4148-9211-9d5b206305d2",
   "metadata": {},
   "outputs": [
    {
     "data": {
      "text/plain": [
       "0.6815152704789824"
      ]
     },
     "execution_count": 28,
     "metadata": {},
     "output_type": "execute_result"
    }
   ],
   "source": [
    "thena_attributed_lp_balances = {}\n",
    "for key, value in thena_call_results.items():\n",
    "    if value > 0 and parse_address(key) != thena_mpx_wbnb_gauge:\n",
    "        thena_attributed_lp_balances[parse_address(key)] = value\n",
    "sum(thena_attributed_lp_balances.values()) / 1e18"
   ]
  },
  {
   "cell_type": "markdown",
   "id": "a661cf09-67a0-44a3-91f9-f1dd359e830f",
   "metadata": {},
   "source": [
    "Step 2. Examine Gauges and assign LP to addresses.\n",
    "First determine how much LP is controlled by a gauge, then assign LP based on proportion of gauge."
   ]
  },
  {
   "cell_type": "code",
   "execution_count": 29,
   "id": "e5898747-af5d-4b9b-a3ed-7a8c4baab472",
   "metadata": {},
   "outputs": [
    {
     "data": {
      "text/plain": [
       "12256.766237378672"
      ]
     },
     "execution_count": 29,
     "metadata": {},
     "output_type": "execute_result"
    }
   ],
   "source": [
    "lp_controlled_by_gauge = thena_lp_balances[thena_mpx_wbnb_gauge]\n",
    "lp_controlled_by_gauge / 1e18"
   ]
  },
  {
   "cell_type": "code",
   "execution_count": 30,
   "id": "2d228788-300c-481e-ba52-e7b911d8c16c",
   "metadata": {},
   "outputs": [
    {
     "data": {
      "text/plain": [
       "12257.447752649148"
      ]
     },
     "execution_count": 30,
     "metadata": {},
     "output_type": "execute_result"
    }
   ],
   "source": [
    "for key, value in thena_gauge_call_results.items():\n",
    "    if value > 0 and parse_address(key) != thena_mpx_wbnb_gauge:\n",
    "        thena_attributed_lp_balances[parse_address(key)] = (value / gauge_lp_total) * lp_controlled_by_gauge\n",
    "sum(thena_attributed_lp_balances.values()) / 1e18"
   ]
  },
  {
   "cell_type": "code",
   "execution_count": 31,
   "id": "f26cced3-7518-454d-aab1-3901a60e9418",
   "metadata": {},
   "outputs": [
    {
     "data": {
      "text/plain": [
       "99.99999999999997"
      ]
     },
     "execution_count": 31,
     "metadata": {},
     "output_type": "execute_result"
    }
   ],
   "source": [
    "(1 - ((pool_lp_total - sum(thena_attributed_lp_balances.values())) / pool_lp_total)) * 100"
   ]
  },
  {
   "cell_type": "markdown",
   "id": "87081756-fbc0-480a-8fd4-bd9982740a0d",
   "metadata": {},
   "source": [
    "We have assigned the LP."
   ]
  },
  {
   "cell_type": "code",
   "execution_count": 34,
   "id": "e1289ef8-d115-4325-bc4c-0708bd6f832e",
   "metadata": {},
   "outputs": [
    {
     "data": {
      "text/plain": [
       "12257.44775264915"
      ]
     },
     "execution_count": 34,
     "metadata": {},
     "output_type": "execute_result"
    }
   ],
   "source": [
    "df = pd.DataFrame.from_dict(thena_attributed_lp_balances, orient=\"index\", columns=[\"lp_balance\"])\n",
    "df[\"address\"] = df.index\n",
    "df.reset_index(drop=True, inplace=True)\n",
    "df = df[[\"address\", \"lp_balance\"]]\n",
    "df['mpx_balance'] = (df['lp_balance'] / pool_lp_total) * pool_mpx_total\n",
    "df['lp_balance'] = df['lp_balance'].apply(lambda x: int(x)).values.tolist()\n",
    "df['mpx_balance'] = df['mpx_balance'].apply(lambda x: int(x)).values.tolist()\n",
    "df = df.sort_values(by='address')\n",
    "df.to_csv(\"../products/bsc-thena-balances.csv\", index=False, float_format='%g')\n",
    "sum(df['lp_balance']) / 1e18"
   ]
  },
  {
   "cell_type": "code",
   "execution_count": 33,
   "id": "9f05f87c-48eb-4868-ad38-296a27251bd9",
   "metadata": {},
   "outputs": [
    {
     "data": {
      "text/plain": [
       "512223.09595500864"
      ]
     },
     "execution_count": 33,
     "metadata": {},
     "output_type": "execute_result"
    }
   ],
   "source": [
    "sum(df['mpx_balance']) / 1e18"
   ]
  }
 ],
 "metadata": {
  "kernelspec": {
   "display_name": "Python 3 (ipykernel)",
   "language": "python",
   "name": "python3"
  },
  "language_info": {
   "codemirror_mode": {
    "name": "ipython",
    "version": 3
   },
   "file_extension": ".py",
   "mimetype": "text/x-python",
   "name": "python",
   "nbconvert_exporter": "python",
   "pygments_lexer": "ipython3",
   "version": "3.9.16"
  }
 },
 "nbformat": 4,
 "nbformat_minor": 5
}
