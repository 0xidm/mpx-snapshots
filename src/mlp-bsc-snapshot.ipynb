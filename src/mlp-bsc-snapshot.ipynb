{
 "cells": [
  {
   "cell_type": "code",
   "execution_count": 2,
   "id": "f31670a1-2693-42c7-a902-5e856553aac3",
   "metadata": {},
   "outputs": [],
   "source": [
    "import os\n",
    "import json\n",
    "import pandas as pd"
   ]
  },
  {
   "cell_type": "markdown",
   "id": "63df7270-ede2-40da-8f4c-18e215cfb27f",
   "metadata": {},
   "source": [
    "## Load BSC transactions\n",
    "\n",
    "The first stage of this snapshot used an archive of the Binance Smart Chain, which was queried from the official Binance RPC servers.\n",
    "\n",
    "The BSC archive contains blocks ranging from 28904155 to 29984961 (2023-06-07 to 2023-07-15)."
   ]
  },
  {
   "cell_type": "code",
   "execution_count": null,
   "id": "70af8be2-e603-4502-bc89-a2682dd12291",
   "metadata": {},
   "outputs": [],
   "source": [
    "bsc_txs_filename = os.path.expanduser(\"~/Work/fantom-blockchain/var/bsc-txs.csv.gz\")\n",
    "txs = pd.read_csv(bsc_txs_filename)\n",
    "txs.head()"
   ]
  },
  {
   "cell_type": "markdown",
   "id": "3512ce89-3220-410a-bcc0-f35167dc6707",
   "metadata": {},
   "source": [
    "## Identify interacting wallet addresses\n",
    "\n",
    "This snapshot begins by identifying all the addresses that ever interacted with Morphex contracts.\n",
    "This list of addresses will be used in the next stage to query balances on-chain."
   ]
  },
  {
   "cell_type": "code",
   "execution_count": null,
   "id": "e6354463-e5dc-47cb-871a-8bcad862a35d",
   "metadata": {},
   "outputs": [],
   "source": [
    "mpx_erc20_address = \"0x66eEd5FF1701E6ed8470DC391F05e27B1d0657eb\"\n",
    "mlp_erc20_address = \"0xd5c313DE2d33bf36014e6c659F13acE112B80a8E\"\n",
    "vault_address = \"0x3CB54f0eB62C371065D739A34a775CC16f46563e\"\n",
    "mlp_manager_address = \"0xA3Ea99f8aE06bA0d9A6Cf7618d06AEa4564340E9\"\n",
    "musd_erc20_address = \"0xB7209EbCBF71c0ffA1585B4468A11CFfdcDBB9a9\"\n",
    "esmpx_erc20_address = \"0xe0f606e6730bE531EeAf42348dE43C2feeD43505\"\n",
    "reward_router_address = \"0x20De7f8283D377fA84575A26c9D484Ee40f55877\"\n",
    "reward_reader_address = \"0x512F8D4E28EB53A6d036aEDA9C5a4D1De6DBD543\"\n",
    "weth_erc20_address = \"0x21be370D5312f44cB42ce377BC9b8a0cEF1A4C83\"\n",
    "tracker_staked_mlp_address = \"0xa4157E273D88ff16B3d8Df68894e1fd809DbC007\" # staked MPX\n",
    "tracker_staked_mpx_address = \"0x49A97680938B4F1f73816d1B70C3Ab801FAd124B\" # fee + staked MLP\n",
    "equalizer_wftm_mpx_address = \"0xdE26e98d868FE02fFfb6DF26E638995124d3Ca13\"\n",
    "equalizer_wftm_mpx_address_new = \"0xF8eed2665FD11a8431fc41b2582fD5E72a1606f0\"\n",
    "equalizer_gauge_1 = \"0x27F7cf5e918311AAF5E7185b5BcDAc158dFacf53\" # \n",
    "equalizer_gauge_2 = \"0x7778a0B4688321c4E705d4e9F1A072f6F1579Bf8\" # equalizer"
   ]
  },
  {
   "cell_type": "markdown",
   "id": "7321f0eb-6a22-400a-934c-b3d9ab496253",
   "metadata": {},
   "source": [
    "### MPX ERC-20"
   ]
  },
  {
   "cell_type": "code",
   "execution_count": 162,
   "id": "5d768a29-6c0f-4f58-9772-a581920dd2b4",
   "metadata": {},
   "outputs": [
    {
     "data": {
      "text/plain": [
       "10879"
      ]
     },
     "execution_count": 162,
     "metadata": {},
     "output_type": "execute_result"
    }
   ],
   "source": [
    "mpx_txs = txs.query(f'to == \"{mpx_erc20_address}\"')\n",
    "len(mpx_txs)"
   ]
  },
  {
   "cell_type": "code",
   "execution_count": 163,
   "id": "9dd5152f-d18f-4368-905a-f9cd2ad40597",
   "metadata": {},
   "outputs": [
    {
     "data": {
      "text/plain": [
       "4233"
      ]
     },
     "execution_count": 163,
     "metadata": {},
     "output_type": "execute_result"
    }
   ],
   "source": [
    "unique_mpx_addresses = set(mpx_txs['from'])\n",
    "len(unique_mpx_addresses)"
   ]
  }
 ],
 "metadata": {
  "kernelspec": {
   "display_name": "Python 3 (ipykernel)",
   "language": "python",
   "name": "python3"
  },
  "language_info": {
   "codemirror_mode": {
    "name": "ipython",
    "version": 3
   },
   "file_extension": ".py",
   "mimetype": "text/x-python",
   "name": "python",
   "nbconvert_exporter": "python",
   "pygments_lexer": "ipython3",
   "version": "3.9.16"
  }
 },
 "nbformat": 4,
 "nbformat_minor": 5
}
