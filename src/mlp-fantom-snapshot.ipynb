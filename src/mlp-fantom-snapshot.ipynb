{
 "cells": [
  {
   "cell_type": "code",
   "execution_count": 1,
   "id": "10501af9-a430-40f0-b1d5-023841c753f6",
   "metadata": {},
   "outputs": [],
   "source": [
    "import pandas as pd\n",
    "import json"
   ]
  },
  {
   "cell_type": "code",
   "execution_count": 2,
   "id": "ebfbcb13-389d-40c5-a92b-951ed14e3c8a",
   "metadata": {},
   "outputs": [],
   "source": [
    "fantom_txs_filename = \"../var/fantom-txs.csv.gz\"\n",
    "txs = pd.read_csv(fantom_txs_filename)"
   ]
  },
  {
   "cell_type": "code",
   "execution_count": 7,
   "id": "b3abcf5f-5f1a-4a49-bfa5-1cd6b18d0f22",
   "metadata": {},
   "outputs": [
    {
     "data": {
      "text/plain": [
       "Index(['block_id', 'tx_hash', 'method', 'from', 'to', 'quantity'], dtype='object')"
      ]
     },
     "execution_count": 7,
     "metadata": {},
     "output_type": "execute_result"
    }
   ],
   "source": [
    "txs.columns"
   ]
  },
  {
   "cell_type": "code",
   "execution_count": 10,
   "id": "e1b2763b-fc30-4760-b08c-dba26b9bf32c",
   "metadata": {},
   "outputs": [
    {
     "data": {
      "text/html": [
       "<div>\n",
       "<style scoped>\n",
       "    .dataframe tbody tr th:only-of-type {\n",
       "        vertical-align: middle;\n",
       "    }\n",
       "\n",
       "    .dataframe tbody tr th {\n",
       "        vertical-align: top;\n",
       "    }\n",
       "\n",
       "    .dataframe thead th {\n",
       "        text-align: right;\n",
       "    }\n",
       "</style>\n",
       "<table border=\"1\" class=\"dataframe\">\n",
       "  <thead>\n",
       "    <tr style=\"text-align: right;\">\n",
       "      <th></th>\n",
       "      <th>block_id</th>\n",
       "      <th>tx_hash</th>\n",
       "      <th>method</th>\n",
       "      <th>from</th>\n",
       "      <th>to</th>\n",
       "      <th>quantity</th>\n",
       "    </tr>\n",
       "  </thead>\n",
       "  <tbody>\n",
       "    <tr>\n",
       "      <th>0</th>\n",
       "      <td>56889636</td>\n",
       "      <td>0x403ad523a886c918542d7286b4b99109b7ce8bb100e7...</td>\n",
       "      <td>0x</td>\n",
       "      <td>0xb3A4cea0545A379ccaE4b3Bd8EF61e43Cb180f9e</td>\n",
       "      <td>0x0724420978846F5EEDed4569757f38e833cF109E</td>\n",
       "      <td>999129676456824152</td>\n",
       "    </tr>\n",
       "    <tr>\n",
       "      <th>1</th>\n",
       "      <td>56889636</td>\n",
       "      <td>0x892de2d4f5799a77117014447142602e1196bc8bcdc7...</td>\n",
       "      <td>0xb39500a4</td>\n",
       "      <td>0xDC081533B9CaA5FC621be1B5D12Cfc1E0089882E</td>\n",
       "      <td>0x76703141370677Bf62645cBB8D85b57d5176f7A9</td>\n",
       "      <td>0</td>\n",
       "    </tr>\n",
       "    <tr>\n",
       "      <th>2</th>\n",
       "      <td>56889636</td>\n",
       "      <td>0x307c214f48a32b9ccd353926ed942cbb602b690e860f...</td>\n",
       "      <td>0x2ed391c4</td>\n",
       "      <td>0xA90c5aA33cB98Ecd530CCB5eb6cB412755926c37</td>\n",
       "      <td>0x0cE6a57209eb32cceC93E14294f3F8fD62cBc364</td>\n",
       "      <td>0</td>\n",
       "    </tr>\n",
       "    <tr>\n",
       "      <th>3</th>\n",
       "      <td>56889636</td>\n",
       "      <td>0x4e146877ecb6b79b41c55961d45ae1c720ae77770a91...</td>\n",
       "      <td>0x095ea7b3</td>\n",
       "      <td>0xC9CE22634703Ec7c430d620EC267b3E042D2b881</td>\n",
       "      <td>0xCbCaF8cB8cbeAFA927ECEE0c5C56560F83E9B7D9</td>\n",
       "      <td>0</td>\n",
       "    </tr>\n",
       "    <tr>\n",
       "      <th>4</th>\n",
       "      <td>56889636</td>\n",
       "      <td>0xc5d313eee64f7421126e3ddfe69b172875c0f8f28a76...</td>\n",
       "      <td>0xb39500a4</td>\n",
       "      <td>0x24a58f94C1093E689Aeda1E8b632b005603217de</td>\n",
       "      <td>0x76703141370677Bf62645cBB8D85b57d5176f7A9</td>\n",
       "      <td>0</td>\n",
       "    </tr>\n",
       "  </tbody>\n",
       "</table>\n",
       "</div>"
      ],
      "text/plain": [
       "   block_id                                            tx_hash      method  \\\n",
       "0  56889636  0x403ad523a886c918542d7286b4b99109b7ce8bb100e7...          0x   \n",
       "1  56889636  0x892de2d4f5799a77117014447142602e1196bc8bcdc7...  0xb39500a4   \n",
       "2  56889636  0x307c214f48a32b9ccd353926ed942cbb602b690e860f...  0x2ed391c4   \n",
       "3  56889636  0x4e146877ecb6b79b41c55961d45ae1c720ae77770a91...  0x095ea7b3   \n",
       "4  56889636  0xc5d313eee64f7421126e3ddfe69b172875c0f8f28a76...  0xb39500a4   \n",
       "\n",
       "                                         from  \\\n",
       "0  0xb3A4cea0545A379ccaE4b3Bd8EF61e43Cb180f9e   \n",
       "1  0xDC081533B9CaA5FC621be1B5D12Cfc1E0089882E   \n",
       "2  0xA90c5aA33cB98Ecd530CCB5eb6cB412755926c37   \n",
       "3  0xC9CE22634703Ec7c430d620EC267b3E042D2b881   \n",
       "4  0x24a58f94C1093E689Aeda1E8b632b005603217de   \n",
       "\n",
       "                                           to            quantity  \n",
       "0  0x0724420978846F5EEDed4569757f38e833cF109E  999129676456824152  \n",
       "1  0x76703141370677Bf62645cBB8D85b57d5176f7A9                   0  \n",
       "2  0x0cE6a57209eb32cceC93E14294f3F8fD62cBc364                   0  \n",
       "3  0xCbCaF8cB8cbeAFA927ECEE0c5C56560F83E9B7D9                   0  \n",
       "4  0x76703141370677Bf62645cBB8D85b57d5176f7A9                   0  "
      ]
     },
     "execution_count": 10,
     "metadata": {},
     "output_type": "execute_result"
    }
   ],
   "source": [
    "txs.head()"
   ]
  },
  {
   "cell_type": "code",
   "execution_count": 27,
   "id": "59aeed8c-6367-4ec2-8b92-66a4464a3c09",
   "metadata": {},
   "outputs": [],
   "source": [
    "mpx_erc20_address = \"0x66eEd5FF1701E6ed8470DC391F05e27B1d0657eb\"\n",
    "mlp_erc20_address = \"0xd5c313DE2d33bf36014e6c659F13acE112B80a8E\"\n",
    "vault_address = \"0x3CB54f0eB62C371065D739A34a775CC16f46563e\"\n",
    "mlp_manager_address = \"0xA3Ea99f8aE06bA0d9A6Cf7618d06AEa4564340E9\"\n",
    "musd_erc20_address = \"0xB7209EbCBF71c0ffA1585B4468A11CFfdcDBB9a9\"\n",
    "esmpx_erc20_address = \"0xe0f606e6730bE531EeAf42348dE43C2feeD43505\"\n",
    "reward_router_address = \"0x20De7f8283D377fA84575A26c9D484Ee40f55877\"\n",
    "reward_reader_address = \"0x512F8D4E28EB53A6d036aEDA9C5a4D1De6DBD543\""
   ]
  },
  {
   "cell_type": "code",
   "execution_count": 22,
   "id": "3e3145c3-b21b-41ca-9483-364b1e92ce60",
   "metadata": {},
   "outputs": [
    {
     "data": {
      "text/plain": [
       "7617"
      ]
     },
     "execution_count": 22,
     "metadata": {},
     "output_type": "execute_result"
    }
   ],
   "source": [
    "mpx_txs = txs.query(f'to == \"{mpx_erc20_address}\"')\n",
    "len(mpx_txs)"
   ]
  },
  {
   "cell_type": "code",
   "execution_count": 33,
   "id": "c7ea654a-1d3c-4bb2-b568-ea5a178767de",
   "metadata": {},
   "outputs": [
    {
     "data": {
      "text/plain": [
       "2730"
      ]
     },
     "execution_count": 33,
     "metadata": {},
     "output_type": "execute_result"
    }
   ],
   "source": [
    "unique_mpx_addresses = set(mpx_txs['from'])\n",
    "len(unique_mpx_addresses)"
   ]
  },
  {
   "cell_type": "code",
   "execution_count": 23,
   "id": "1f159557-abc5-4dba-aec3-6c95d48ad914",
   "metadata": {},
   "outputs": [
    {
     "data": {
      "text/plain": [
       "5"
      ]
     },
     "execution_count": 23,
     "metadata": {},
     "output_type": "execute_result"
    }
   ],
   "source": [
    "mlp_txs = txs.query(f'to == \"{mlp_erc20_address}\"')\n",
    "len(mlp_txs)"
   ]
  },
  {
   "cell_type": "code",
   "execution_count": 24,
   "id": "581a15a0-80f4-4c29-96d3-8c989d7176cc",
   "metadata": {},
   "outputs": [
    {
     "data": {
      "text/plain": [
       "18"
      ]
     },
     "execution_count": 24,
     "metadata": {},
     "output_type": "execute_result"
    }
   ],
   "source": [
    "vault_txs = txs.query(f'to == \"{vault_address}\"')\n",
    "len(vault_txs)"
   ]
  },
  {
   "cell_type": "code",
   "execution_count": 25,
   "id": "b9de875c-46e2-4893-b1ac-a1e1099f528c",
   "metadata": {},
   "outputs": [
    {
     "data": {
      "text/plain": [
       "5"
      ]
     },
     "execution_count": 25,
     "metadata": {},
     "output_type": "execute_result"
    }
   ],
   "source": [
    "manager_txs = txs.query(f'to == \"{mlp_manager_address}\"')\n",
    "len(manager_txs)"
   ]
  },
  {
   "cell_type": "code",
   "execution_count": 29,
   "id": "636224d7-0180-45f2-bbc4-968dd58a1f05",
   "metadata": {},
   "outputs": [
    {
     "data": {
      "text/plain": [
       "46739"
      ]
     },
     "execution_count": 29,
     "metadata": {},
     "output_type": "execute_result"
    }
   ],
   "source": [
    "reward_router_txs = txs.query(f'to == \"{reward_router_address}\"')\n",
    "len(reward_router_txs)"
   ]
  },
  {
   "cell_type": "code",
   "execution_count": 32,
   "id": "3f02138d-2a9b-4aca-b876-12c3f7d166ac",
   "metadata": {},
   "outputs": [
    {
     "data": {
      "text/plain": [
       "1585"
      ]
     },
     "execution_count": 32,
     "metadata": {},
     "output_type": "execute_result"
    }
   ],
   "source": [
    "unique_reward_addresses = set(reward_router_txs['from'])\n",
    "len(unique_reward_addresses)"
   ]
  },
  {
   "cell_type": "code",
   "execution_count": 37,
   "id": "bff5724d-37ad-420a-8c41-abab52c7eb4b",
   "metadata": {},
   "outputs": [
    {
     "data": {
      "text/plain": [
       "3010"
      ]
     },
     "execution_count": 37,
     "metadata": {},
     "output_type": "execute_result"
    }
   ],
   "source": [
    "import json\n",
    "addresses = unique_reward_addresses | unique_mpx_addresses\n",
    "with open(\"../var/fantom-addresses.json\", \"w\") as f:\n",
    "    json.dump(list(addresses), f)\n",
    "len(addresses)"
   ]
  },
  {
   "cell_type": "code",
   "execution_count": 39,
   "id": "b89bd1f3-7c55-4295-b09e-8005ce20d6db",
   "metadata": {},
   "outputs": [
    {
     "data": {
      "text/plain": [
       "'0xDe0610591B31D2f562D39FcF60ca9d79c3b67D8A'"
      ]
     },
     "execution_count": 39,
     "metadata": {},
     "output_type": "execute_result"
    }
   ],
   "source": [
    "list(addresses)[0]"
   ]
  },
  {
   "cell_type": "code",
   "execution_count": 41,
   "id": "2091a479-8149-4a4e-a6df-4318139dca0e",
   "metadata": {},
   "outputs": [],
   "source": [
    "weth_erc20_address = \"0x21be370D5312f44cB42ce377BC9b8a0cEF1A4C83\"\n",
    "tracker_staked_mlp_address = \"0xa4157E273D88ff16B3d8Df68894e1fd809DbC007\" # staked MPX\n",
    "tracker_staked_mpx_address = \"0x49A97680938B4F1f73816d1B70C3Ab801FAd124B\" # fee + staked MLP"
   ]
  },
  {
   "cell_type": "code",
   "execution_count": null,
   "id": "5e478558-1c20-4bbf-89f9-30c512b8659b",
   "metadata": {},
   "outputs": [],
   "source": [
    "def parse_address(item):\n",
    "    return item.split(\",\")[2].split(\"'\")[1]"
   ]
  },
  {
   "cell_type": "code",
   "execution_count": 57,
   "id": "9f277b52-fd7a-49ed-8bfc-ffd27e9ed7b1",
   "metadata": {},
   "outputs": [
    {
     "data": {
      "text/plain": [
       "3010"
      ]
     },
     "execution_count": 57,
     "metadata": {},
     "output_type": "execute_result"
    }
   ],
   "source": [
    "with open(\"../var/fantom-staked-mlp-results.json\", \"r\") as f:\n",
    "    mlp_call_results = json.load(f)\n",
    "\n",
    "len(mlp_call_results)"
   ]
  },
  {
   "cell_type": "code",
   "execution_count": 64,
   "id": "f13f415b-1ffc-48c7-841e-b17ea4fddb24",
   "metadata": {},
   "outputs": [
    {
     "data": {
      "text/plain": [
       "440363.1474220085"
      ]
     },
     "execution_count": 64,
     "metadata": {},
     "output_type": "execute_result"
    }
   ],
   "source": [
    "mlp_balances = {}\n",
    "for key, value in mlp_call_results.items():\n",
    "    if value > 0:\n",
    "        mlp_balances[parse_address(key)] = value\n",
    "\n",
    "with open(\"../var/fantom-fsmlp-balances.json\", \"w\") as f:\n",
    "    json.dump(mlp_balances, f, indent=2)\n",
    "\n",
    "sum(mlp_balances.values()) / 1e18"
   ]
  },
  {
   "cell_type": "code",
   "execution_count": 66,
   "id": "a7699c81-9792-43dd-888c-e388364ae353",
   "metadata": {},
   "outputs": [
    {
     "data": {
      "text/plain": [
       "3010"
      ]
     },
     "execution_count": 66,
     "metadata": {},
     "output_type": "execute_result"
    }
   ],
   "source": [
    "with open(\"../var/fantom-staked-mpx-results.json\", \"r\") as f:\n",
    "    mpx_call_results = json.load(f)\n",
    "\n",
    "len(mpx_call_results)"
   ]
  },
  {
   "cell_type": "code",
   "execution_count": 67,
   "id": "cc9591e9-8872-47ee-9ad3-92e6c456fcb7",
   "metadata": {},
   "outputs": [
    {
     "data": {
      "text/plain": [
       "7331170.913405434"
      ]
     },
     "execution_count": 67,
     "metadata": {},
     "output_type": "execute_result"
    }
   ],
   "source": [
    "mpx_balances = {}\n",
    "for key, value in mpx_call_results.items():\n",
    "    if value > 0:\n",
    "        mpx_balances[parse_address(key)] = value\n",
    "\n",
    "with open(\"../var/fantom-smpx-balances.json\", \"w\") as f:\n",
    "    json.dump(mpx_balances, f, indent=2)\n",
    "\n",
    "sum(mpx_balances.values()) / 1e18"
   ]
  }
 ],
 "metadata": {
  "kernelspec": {
   "display_name": "Python 3 (ipykernel)",
   "language": "python",
   "name": "python3"
  },
  "language_info": {
   "codemirror_mode": {
    "name": "ipython",
    "version": 3
   },
   "file_extension": ".py",
   "mimetype": "text/x-python",
   "name": "python",
   "nbconvert_exporter": "python",
   "pygments_lexer": "ipython3",
   "version": "3.9.16"
  }
 },
 "nbformat": 4,
 "nbformat_minor": 5
}
