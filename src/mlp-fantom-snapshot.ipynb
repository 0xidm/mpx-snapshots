{
 "cells": [
  {
   "cell_type": "code",
   "execution_count": 1,
   "id": "10501af9-a430-40f0-b1d5-023841c753f6",
   "metadata": {},
   "outputs": [],
   "source": [
    "import os\n",
    "import json\n",
    "import pandas as pd"
   ]
  },
  {
   "cell_type": "markdown",
   "id": "f337744f-a9a4-44ae-8679-f7d62deaebbf",
   "metadata": {},
   "source": [
    "## Load Fantom transactions\n",
    "\n",
    "The first stage of this snapshot used an archive of the Fantom DAG, which was queried from public RPC servers.\n",
    "The Fantom archive contains blocks ranging from 54647659 to 65653613 (2023-01-29 to 2023-07-12)."
   ]
  },
  {
   "cell_type": "code",
   "execution_count": 2,
   "id": "ebfbcb13-389d-40c5-a92b-951ed14e3c8a",
   "metadata": {},
   "outputs": [
    {
     "data": {
      "text/html": [
       "<div>\n",
       "<style scoped>\n",
       "    .dataframe tbody tr th:only-of-type {\n",
       "        vertical-align: middle;\n",
       "    }\n",
       "\n",
       "    .dataframe tbody tr th {\n",
       "        vertical-align: top;\n",
       "    }\n",
       "\n",
       "    .dataframe thead th {\n",
       "        text-align: right;\n",
       "    }\n",
       "</style>\n",
       "<table border=\"1\" class=\"dataframe\">\n",
       "  <thead>\n",
       "    <tr style=\"text-align: right;\">\n",
       "      <th></th>\n",
       "      <th>block_id</th>\n",
       "      <th>tx_hash</th>\n",
       "      <th>method</th>\n",
       "      <th>from</th>\n",
       "      <th>to</th>\n",
       "      <th>quantity</th>\n",
       "    </tr>\n",
       "  </thead>\n",
       "  <tbody>\n",
       "    <tr>\n",
       "      <th>0</th>\n",
       "      <td>54647659</td>\n",
       "      <td>0x68b471267b020fb7be707817bbe822da9a18f45071c7...</td>\n",
       "      <td>0x627dd56a</td>\n",
       "      <td>0x5cD5AFF4A3b42b59651BAB5Eb45c07375f60e905</td>\n",
       "      <td>0x3319161b131401124E61ffCDFf0aa7f6FDcbbFEd</td>\n",
       "      <td>0</td>\n",
       "    </tr>\n",
       "    <tr>\n",
       "      <th>1</th>\n",
       "      <td>54647659</td>\n",
       "      <td>0xa873edd8d865c95afd33d5ebeb34cad3df4843b2c769...</td>\n",
       "      <td>0x16711fdc</td>\n",
       "      <td>0x53e0466D46306e9824590988f50B0EEAcA1A6Dae</td>\n",
       "      <td>0x6Ff283ac7BB7F66475Ca79aA549c6f689cDB89Dd</td>\n",
       "      <td>0</td>\n",
       "    </tr>\n",
       "    <tr>\n",
       "      <th>2</th>\n",
       "      <td>54647659</td>\n",
       "      <td>0x68f2f5c608c220d3ff0c421eed9812b7e9d6124d4adb...</td>\n",
       "      <td>0xac882d06</td>\n",
       "      <td>0x656DAA21A427a1A290dD78AC581fFe8CbfF16066</td>\n",
       "      <td>0x6b120e310A892D1Cbe0F89E76Bf7Cb0da3a85BCe</td>\n",
       "      <td>0</td>\n",
       "    </tr>\n",
       "    <tr>\n",
       "      <th>3</th>\n",
       "      <td>54647659</td>\n",
       "      <td>0xd1e53d2e2bcf779b4061a4dc7080a33d4f270b72c61a...</td>\n",
       "      <td>0x627dd56a</td>\n",
       "      <td>0x01883C8E7Abb7C2Ef03d802F77AA567a254e17d7</td>\n",
       "      <td>0x0000900e00070d8090169000D2B090B67f0c1050</td>\n",
       "      <td>0</td>\n",
       "    </tr>\n",
       "    <tr>\n",
       "      <th>4</th>\n",
       "      <td>54647659</td>\n",
       "      <td>0x961463fa4ffc36d9d1fea04060b9c57072950a81a5ca...</td>\n",
       "      <td>0x58b58d44</td>\n",
       "      <td>0x211cB8e0740AdF9066453e627dcc196225c8F0E7</td>\n",
       "      <td>0xe0df6a0840C4f31E81C3d4B11Ba8B579F2ba8b1a</td>\n",
       "      <td>0</td>\n",
       "    </tr>\n",
       "  </tbody>\n",
       "</table>\n",
       "</div>"
      ],
      "text/plain": [
       "   block_id                                            tx_hash      method  \\\n",
       "0  54647659  0x68b471267b020fb7be707817bbe822da9a18f45071c7...  0x627dd56a   \n",
       "1  54647659  0xa873edd8d865c95afd33d5ebeb34cad3df4843b2c769...  0x16711fdc   \n",
       "2  54647659  0x68f2f5c608c220d3ff0c421eed9812b7e9d6124d4adb...  0xac882d06   \n",
       "3  54647659  0xd1e53d2e2bcf779b4061a4dc7080a33d4f270b72c61a...  0x627dd56a   \n",
       "4  54647659  0x961463fa4ffc36d9d1fea04060b9c57072950a81a5ca...  0x58b58d44   \n",
       "\n",
       "                                         from  \\\n",
       "0  0x5cD5AFF4A3b42b59651BAB5Eb45c07375f60e905   \n",
       "1  0x53e0466D46306e9824590988f50B0EEAcA1A6Dae   \n",
       "2  0x656DAA21A427a1A290dD78AC581fFe8CbfF16066   \n",
       "3  0x01883C8E7Abb7C2Ef03d802F77AA567a254e17d7   \n",
       "4  0x211cB8e0740AdF9066453e627dcc196225c8F0E7   \n",
       "\n",
       "                                           to quantity  \n",
       "0  0x3319161b131401124E61ffCDFf0aa7f6FDcbbFEd        0  \n",
       "1  0x6Ff283ac7BB7F66475Ca79aA549c6f689cDB89Dd        0  \n",
       "2  0x6b120e310A892D1Cbe0F89E76Bf7Cb0da3a85BCe        0  \n",
       "3  0x0000900e00070d8090169000D2B090B67f0c1050        0  \n",
       "4  0xe0df6a0840C4f31E81C3d4B11Ba8B579F2ba8b1a        0  "
      ]
     },
     "execution_count": 2,
     "metadata": {},
     "output_type": "execute_result"
    }
   ],
   "source": [
    "fantom_txs_filename = os.path.expanduser(\"../var/fantom-txs.csv.gz\")\n",
    "txs = pd.read_csv(fantom_txs_filename)\n",
    "txs.head()"
   ]
  },
  {
   "cell_type": "markdown",
   "id": "3696c4e6-0656-4652-85d0-66df2fb35aef",
   "metadata": {},
   "source": [
    "## Identify interacting wallet addresses\n",
    "\n",
    "This snapshot begins by identifying all the addresses that ever interacted with Morphex contracts.\n",
    "This list of addresses will be used in the next stage to query balances on-chain."
   ]
  },
  {
   "cell_type": "code",
   "execution_count": 3,
   "id": "a370aba9-f45e-4b6e-a94b-1c6fb86f3c35",
   "metadata": {},
   "outputs": [],
   "source": [
    "mpx_erc20_address = \"0x66eEd5FF1701E6ed8470DC391F05e27B1d0657eb\"\n",
    "mlp_erc20_address = \"0xd5c313DE2d33bf36014e6c659F13acE112B80a8E\"\n",
    "vault_address = \"0x3CB54f0eB62C371065D739A34a775CC16f46563e\"\n",
    "mlp_manager_address = \"0xA3Ea99f8aE06bA0d9A6Cf7618d06AEa4564340E9\"\n",
    "musd_erc20_address = \"0xB7209EbCBF71c0ffA1585B4468A11CFfdcDBB9a9\"\n",
    "esmpx_erc20_address = \"0xe0f606e6730bE531EeAf42348dE43C2feeD43505\"\n",
    "reward_router_address = \"0x20De7f8283D377fA84575A26c9D484Ee40f55877\"\n",
    "reward_reader_address = \"0x512F8D4E28EB53A6d036aEDA9C5a4D1De6DBD543\"\n",
    "weth_erc20_address = \"0x21be370D5312f44cB42ce377BC9b8a0cEF1A4C83\"\n",
    "tracker_staked_mlp_address = \"0xa4157E273D88ff16B3d8Df68894e1fd809DbC007\" # staked MPX\n",
    "tracker_staked_mpx_address = \"0x49A97680938B4F1f73816d1B70C3Ab801FAd124B\" # fee + staked MLP\n",
    "equalizer_wftm_mpx_address = \"0xdE26e98d868FE02fFfb6DF26E638995124d3Ca13\"\n",
    "equalizer_wftm_mpx_address_new = \"0xF8eed2665FD11a8431fc41b2582fD5E72a1606f0\"\n",
    "equalizer_gauge_1 = \"0x27F7cf5e918311AAF5E7185b5BcDAc158dFacf53\" # \n",
    "equalizer_gauge_2 = \"0x7778a0B4688321c4E705d4e9F1A072f6F1579Bf8\" # equalizer"
   ]
  },
  {
   "cell_type": "markdown",
   "id": "83ae13d6-8d5a-476a-b0a6-12cf6bda1d07",
   "metadata": {},
   "source": [
    "### MPX ERC-20"
   ]
  },
  {
   "cell_type": "code",
   "execution_count": 4,
   "id": "3e3145c3-b21b-41ca-9483-364b1e92ce60",
   "metadata": {},
   "outputs": [
    {
     "data": {
      "text/plain": [
       "10879"
      ]
     },
     "execution_count": 4,
     "metadata": {},
     "output_type": "execute_result"
    }
   ],
   "source": [
    "mpx_txs = txs.query(f'to == \"{mpx_erc20_address}\"')\n",
    "len(mpx_txs)"
   ]
  },
  {
   "cell_type": "code",
   "execution_count": 5,
   "id": "c7ea654a-1d3c-4bb2-b568-ea5a178767de",
   "metadata": {},
   "outputs": [
    {
     "data": {
      "text/plain": [
       "4233"
      ]
     },
     "execution_count": 5,
     "metadata": {},
     "output_type": "execute_result"
    }
   ],
   "source": [
    "unique_mpx_addresses = set(mpx_txs['from'])\n",
    "len(unique_mpx_addresses)"
   ]
  },
  {
   "cell_type": "markdown",
   "id": "31d42a01-f47e-4ff5-baa0-f71411594c7a",
   "metadata": {},
   "source": [
    "### Reward Router"
   ]
  },
  {
   "cell_type": "code",
   "execution_count": 6,
   "id": "636224d7-0180-45f2-bbc4-968dd58a1f05",
   "metadata": {},
   "outputs": [
    {
     "data": {
      "text/plain": [
       "46739"
      ]
     },
     "execution_count": 6,
     "metadata": {},
     "output_type": "execute_result"
    }
   ],
   "source": [
    "reward_router_txs = txs.query(f'to == \"{reward_router_address}\"')\n",
    "len(reward_router_txs)"
   ]
  },
  {
   "cell_type": "code",
   "execution_count": 7,
   "id": "3f02138d-2a9b-4aca-b876-12c3f7d166ac",
   "metadata": {},
   "outputs": [
    {
     "data": {
      "text/plain": [
       "1585"
      ]
     },
     "execution_count": 7,
     "metadata": {},
     "output_type": "execute_result"
    }
   ],
   "source": [
    "unique_reward_addresses = set(reward_router_txs['from'])\n",
    "len(unique_reward_addresses)"
   ]
  },
  {
   "cell_type": "markdown",
   "id": "fc629e0c-3e7a-45f9-8935-351f6295ba30",
   "metadata": {},
   "source": [
    "### Equalizer WFTM-MPX LP"
   ]
  },
  {
   "cell_type": "code",
   "execution_count": 8,
   "id": "42fc4fef-7750-4918-8bb2-95b4f3fb94f9",
   "metadata": {},
   "outputs": [
    {
     "data": {
      "text/plain": [
       "2503"
      ]
     },
     "execution_count": 8,
     "metadata": {},
     "output_type": "execute_result"
    }
   ],
   "source": [
    "equalizer_txs = txs.query(f'to == \"{equalizer_wftm_mpx_address}\"')\n",
    "len(equalizer_txs)"
   ]
  },
  {
   "cell_type": "code",
   "execution_count": 9,
   "id": "19f37bcb-a935-48b4-89f6-80c906c72610",
   "metadata": {},
   "outputs": [
    {
     "data": {
      "text/plain": [
       "572"
      ]
     },
     "execution_count": 9,
     "metadata": {},
     "output_type": "execute_result"
    }
   ],
   "source": [
    "unique_equalizer_addresses = set(equalizer_txs['from'])\n",
    "len(unique_equalizer_addresses)"
   ]
  },
  {
   "cell_type": "markdown",
   "id": "7115302b-70c4-4693-b5b9-6da869b912a0",
   "metadata": {},
   "source": [
    "### Equalizer WFTM-MPX Gauge"
   ]
  },
  {
   "cell_type": "code",
   "execution_count": 10,
   "id": "a1e61b23-5198-4bb9-857b-b9f581b7be49",
   "metadata": {},
   "outputs": [
    {
     "data": {
      "text/plain": [
       "3838"
      ]
     },
     "execution_count": 10,
     "metadata": {},
     "output_type": "execute_result"
    }
   ],
   "source": [
    "equalizer_gauge_txs = txs.query(f'to == \"{equalizer_gauge_1}\"')\n",
    "len(equalizer_gauge_txs)"
   ]
  },
  {
   "cell_type": "code",
   "execution_count": 11,
   "id": "3cea3dcc-aa51-4476-9c9b-1d2ef372b466",
   "metadata": {},
   "outputs": [
    {
     "data": {
      "text/plain": [
       "265"
      ]
     },
     "execution_count": 11,
     "metadata": {},
     "output_type": "execute_result"
    }
   ],
   "source": [
    "unique_equalizer_gauge_addresses = set(equalizer_gauge_txs['from'])\n",
    "len(unique_equalizer_gauge_addresses)"
   ]
  },
  {
   "cell_type": "markdown",
   "id": "07c2b650-7808-4e92-afc2-962eace8e828",
   "metadata": {},
   "source": [
    "### Combine unique addresses"
   ]
  },
  {
   "cell_type": "code",
   "execution_count": 12,
   "id": "bff5724d-37ad-420a-8c41-abab52c7eb4b",
   "metadata": {},
   "outputs": [
    {
     "data": {
      "text/plain": [
       "4509"
      ]
     },
     "execution_count": 12,
     "metadata": {},
     "output_type": "execute_result"
    }
   ],
   "source": [
    "addresses = unique_reward_addresses | unique_mpx_addresses | unique_equalizer_addresses | unique_equalizer_gauge_addresses\n",
    "addresses = list(addresses)\n",
    "\n",
    "# get balances for Equalizer LPs\n",
    "addresses.append(equalizer_wftm_mpx_address)\n",
    "addresses.append(equalizer_wftm_mpx_address_new) \n",
    "# also get balances for Equalizer Gauges\n",
    "addresses.append(equalizer_gauge_1)\n",
    "addresses.append(equalizer_gauge_2)\n",
    "\n",
    "with open(\"../data/fantom-addresses.json\", \"w\") as f:\n",
    "    json.dump(addresses, f)\n",
    "len(addresses)"
   ]
  },
  {
   "cell_type": "markdown",
   "id": "ce910f04-97e3-4b1a-9fa4-bae47cae75bd",
   "metadata": {},
   "source": [
    "## Call contracts on-chain to obtain balances\n",
    "\n",
    "Fantom RPCs providing full/archival operation permit `eth_call` to be executed against a historical block.\n",
    "For this snapshot, we queried contracts on-chain at block `64884840` (June 30, 2:20 UTC)."
   ]
  },
  {
   "cell_type": "code",
   "execution_count": 13,
   "id": "5e478558-1c20-4bbf-89f9-30c512b8659b",
   "metadata": {},
   "outputs": [],
   "source": [
    "def parse_address(item):\n",
    "    return item.split(\",\")[2].split(\"'\")[1]"
   ]
  },
  {
   "cell_type": "markdown",
   "id": "0716cf7d-c7ed-481a-b75c-a0e19ba0f2ac",
   "metadata": {},
   "source": [
    "### MPX ERC-20\n",
    "\n",
    "Obtain balances for all interacting addresses, including Equalizer LPs.\n",
    "MPX that is single-staked will be counted later."
   ]
  },
  {
   "cell_type": "code",
   "execution_count": 14,
   "id": "4bd70077-a712-436e-b0ee-2f2fcccc4502",
   "metadata": {},
   "outputs": [
    {
     "data": {
      "text/plain": [
       "4509"
      ]
     },
     "execution_count": 14,
     "metadata": {},
     "output_type": "execute_result"
    }
   ],
   "source": [
    "with open(\"../data/fantom-mpx-results.json\", \"r\") as f:\n",
    "    mpx_erc20_call_results = json.load(f)\n",
    "len(mpx_erc20_call_results)"
   ]
  },
  {
   "cell_type": "code",
   "execution_count": 15,
   "id": "e0e987ff-8331-4f8c-b98a-e31b04040525",
   "metadata": {},
   "outputs": [
    {
     "data": {
      "text/plain": [
       "1614428.0117833277"
      ]
     },
     "execution_count": 15,
     "metadata": {},
     "output_type": "execute_result"
    }
   ],
   "source": [
    "mpx_erc20_balances = {}\n",
    "for key, value in mpx_erc20_call_results.items():\n",
    "    if value > 0:\n",
    "        mpx_erc20_balances[parse_address(key)] = value\n",
    "\n",
    "df = pd.DataFrame.from_dict(mpx_erc20_balances, orient=\"index\", columns=[\"balance\"])\n",
    "df[\"address\"] = df.index\n",
    "df.reset_index(drop=True, inplace=True)\n",
    "df = df[[\"address\", \"balance\"]]\n",
    "df['balance'] = df['balance'].apply(lambda x: int(x)).values.tolist()\n",
    "df.to_csv(\"../products/fantom-mpx-balances.csv\", index=False, float_format='%g')\n",
    "sum(df['balance']) / 1e18"
   ]
  },
  {
   "cell_type": "markdown",
   "id": "e0344916-b16f-4efc-9c2f-fcff1ed87e3a",
   "metadata": {},
   "source": [
    "### Single-staked MPX"
   ]
  },
  {
   "cell_type": "code",
   "execution_count": 16,
   "id": "a7699c81-9792-43dd-888c-e388364ae353",
   "metadata": {},
   "outputs": [
    {
     "data": {
      "text/plain": [
       "4509"
      ]
     },
     "execution_count": 16,
     "metadata": {},
     "output_type": "execute_result"
    }
   ],
   "source": [
    "with open(\"../data/fantom-staked-mpx-results.json\", \"r\") as f:\n",
    "    mpx_call_results = json.load(f)\n",
    "len(mpx_call_results)"
   ]
  },
  {
   "cell_type": "code",
   "execution_count": 17,
   "id": "cc9591e9-8872-47ee-9ad3-92e6c456fcb7",
   "metadata": {},
   "outputs": [
    {
     "data": {
      "text/plain": [
       "7574403.20438577"
      ]
     },
     "execution_count": 17,
     "metadata": {},
     "output_type": "execute_result"
    }
   ],
   "source": [
    "mpx_balances = {}\n",
    "for key, value in mpx_call_results.items():\n",
    "    if value > 0:\n",
    "        mpx_balances[parse_address(key)] = value\n",
    "\n",
    "df = pd.DataFrame.from_dict(mpx_balances, orient=\"index\", columns=[\"balance\"])\n",
    "df[\"address\"] = df.index\n",
    "df.reset_index(drop=True, inplace=True)\n",
    "df = df[[\"address\", \"balance\"]]\n",
    "df['balance'] = df['balance'].apply(lambda x: int(x)).values.tolist()\n",
    "df.to_csv(\"../products/fantom-smpx-balances.csv\", index=False, float_format='%g')\n",
    "sum(df['balance']) / 1e18"
   ]
  },
  {
   "cell_type": "markdown",
   "id": "62419dd6-6c8b-4bed-b014-96b5b3ae79f8",
   "metadata": {},
   "source": [
    "### Staked MLP"
   ]
  },
  {
   "cell_type": "code",
   "execution_count": 18,
   "id": "9f277b52-fd7a-49ed-8bfc-ffd27e9ed7b1",
   "metadata": {},
   "outputs": [
    {
     "data": {
      "text/plain": [
       "4509"
      ]
     },
     "execution_count": 18,
     "metadata": {},
     "output_type": "execute_result"
    }
   ],
   "source": [
    "with open(\"../data/fantom-staked-mlp-results.json\", \"r\") as f:\n",
    "    mlp_call_results = json.load(f)\n",
    "len(mlp_call_results)"
   ]
  },
  {
   "cell_type": "code",
   "execution_count": 19,
   "id": "f13f415b-1ffc-48c7-841e-b17ea4fddb24",
   "metadata": {},
   "outputs": [
    {
     "data": {
      "text/plain": [
       "1461026.6865648555"
      ]
     },
     "execution_count": 19,
     "metadata": {},
     "output_type": "execute_result"
    }
   ],
   "source": [
    "mlp_balances = {}\n",
    "for key, value in mlp_call_results.items():\n",
    "    if value > 0:\n",
    "        mlp_balances[parse_address(key)] = value\n",
    "\n",
    "df = pd.DataFrame.from_dict(mlp_balances, orient=\"index\", columns=[\"balance\"])\n",
    "df[\"address\"] = df.index\n",
    "df.reset_index(drop=True, inplace=True)\n",
    "df = df[[\"address\", \"balance\"]]\n",
    "df['balance'] = df['balance'].apply(lambda x: int(x)).values.tolist()\n",
    "df.to_csv(\"../products/fantom-fsmlp-balances.csv\", index=False, float_format='%g')\n",
    "sum(df['balance']) / 1e18"
   ]
  },
  {
   "cell_type": "markdown",
   "id": "85470791-b6a6-4c53-bc9d-3f2e96bde1d2",
   "metadata": {},
   "source": [
    "### Equalizer WFTM-MPX LP\n",
    "\n",
    "First we obtain the MPX balance for the Equalizer LP.\n",
    "These balances are queried from the MPX ERC-20 contract."
   ]
  },
  {
   "cell_type": "code",
   "execution_count": 20,
   "id": "751e905d-6a7a-4341-b6c3-8a7ef4ff94c3",
   "metadata": {},
   "outputs": [
    {
     "data": {
      "text/plain": [
       "1281894.1184612277"
      ]
     },
     "execution_count": 20,
     "metadata": {},
     "output_type": "execute_result"
    }
   ],
   "source": [
    "pool_mpx_total = mpx_erc20_balances[equalizer_wftm_mpx_address]\n",
    "pool_mpx_total / 1e18"
   ]
  },
  {
   "cell_type": "markdown",
   "id": "39c06a27-f854-4ed4-8b78-422af7d0a725",
   "metadata": {},
   "source": [
    "Then we obtain the balances of the Equalizer WFTM-MPX LP.\n",
    "This represents the distribution of MPX provided for liquidity."
   ]
  },
  {
   "cell_type": "code",
   "execution_count": 21,
   "id": "b6886a02-09bc-46e0-8bf6-ac9ae0aa7e37",
   "metadata": {},
   "outputs": [
    {
     "data": {
      "text/plain": [
       "4509"
      ]
     },
     "execution_count": 21,
     "metadata": {},
     "output_type": "execute_result"
    }
   ],
   "source": [
    "with open(\"../data/fantom-equalizer-wftm-mpx-results.json\", \"r\") as f:\n",
    "    equalizer_call_results = json.load(f)\n",
    "len(equalizer_call_results)"
   ]
  },
  {
   "cell_type": "code",
   "execution_count": 33,
   "id": "5b66a6db-c20e-41c2-983c-8a204d68f391",
   "metadata": {},
   "outputs": [
    {
     "data": {
      "text/plain": [
       "851396.9011039473"
      ]
     },
     "execution_count": 33,
     "metadata": {},
     "output_type": "execute_result"
    }
   ],
   "source": [
    "equalizer_lp_balances = {}\n",
    "for key, value in equalizer_call_results.items():\n",
    "    if value > 0:\n",
    "        equalizer_lp_balances[parse_address(key)] = value\n",
    "\n",
    "pool_lp_total = sum(equalizer_lp_balances.values())\n",
    "pool_lp_total / 1e18"
   ]
  },
  {
   "cell_type": "markdown",
   "id": "84c17f39-ff56-4473-bdaf-127180d19371",
   "metadata": {},
   "source": [
    "### Equalizer WFTM-MPX Gauges"
   ]
  },
  {
   "cell_type": "markdown",
   "id": "60fc9991-8dcd-4eb3-bf76-1b6d7faa3008",
   "metadata": {},
   "source": [
    "Most of the LP is controlled by a gauge.\n",
    "So, we must examine gauge contract balances to find the actual addresses that control the MPX."
   ]
  },
  {
   "cell_type": "code",
   "execution_count": 24,
   "id": "daa8f14e-fbab-4f7c-905d-8619b7708555",
   "metadata": {},
   "outputs": [
    {
     "data": {
      "text/plain": [
       "4509"
      ]
     },
     "execution_count": 24,
     "metadata": {},
     "output_type": "execute_result"
    }
   ],
   "source": [
    "with open(\"../data/fantom-equalizer-gauge-1-results.json\", \"r\") as f:\n",
    "    equalizer_gauge_1_call_results = json.load(f)\n",
    "len(equalizer_gauge_1_call_results)"
   ]
  },
  {
   "cell_type": "code",
   "execution_count": 25,
   "id": "6d7ab642-22d3-481a-bf4a-90ca14cd860f",
   "metadata": {},
   "outputs": [
    {
     "data": {
      "text/plain": [
       "524974.0046707705"
      ]
     },
     "execution_count": 25,
     "metadata": {},
     "output_type": "execute_result"
    }
   ],
   "source": [
    "equalizer_gauge_1_balances = {}\n",
    "for key, value in equalizer_gauge_1_call_results.items():\n",
    "    if value > 0:\n",
    "        equalizer_gauge_1_balances[parse_address(key)] = value\n",
    "\n",
    "gauge_1_lp_total = sum(equalizer_gauge_1_balances.values())\n",
    "sum(equalizer_gauge_1_balances.values()) / 1e18"
   ]
  },
  {
   "cell_type": "code",
   "execution_count": 26,
   "id": "9318d9b6-6d56-41d5-ba22-e08ea63bdfb9",
   "metadata": {},
   "outputs": [
    {
     "data": {
      "text/plain": [
       "4509"
      ]
     },
     "execution_count": 26,
     "metadata": {},
     "output_type": "execute_result"
    }
   ],
   "source": [
    "with open(\"../data/fantom-equalizer-gauge-2-results.json\", \"r\") as f:\n",
    "    equalizer_gauge_2_call_results = json.load(f)\n",
    "len(equalizer_gauge_2_call_results)"
   ]
  },
  {
   "cell_type": "code",
   "execution_count": 27,
   "id": "b08b3826-9d4e-46f2-858e-3daace2ddb80",
   "metadata": {},
   "outputs": [
    {
     "data": {
      "text/plain": [
       "11149.893598054376"
      ]
     },
     "execution_count": 27,
     "metadata": {},
     "output_type": "execute_result"
    }
   ],
   "source": [
    "equalizer_gauge_2_balances = {}\n",
    "for key, value in equalizer_gauge_2_call_results.items():\n",
    "    if value > 0:\n",
    "        equalizer_gauge_2_balances[parse_address(key)] = value\n",
    "\n",
    "gauge_2_lp_total = sum(equalizer_gauge_2_balances.values())\n",
    "sum(equalizer_gauge_2_balances.values()) / 1e18"
   ]
  },
  {
   "cell_type": "markdown",
   "id": "5d1b8cb7-6d02-4d58-acf8-8cd408c41e5e",
   "metadata": {},
   "source": [
    "### Attribute MPX to LP and Gauge"
   ]
  },
  {
   "cell_type": "markdown",
   "id": "9096f2dc-e65a-49fd-b024-be0fc73360eb",
   "metadata": {},
   "source": [
    "Finally, we attribute MPX to original addresses.\n",
    "The MPX controlled by each address is held in proportion to the LP tokens controlled by that address."
   ]
  },
  {
   "cell_type": "markdown",
   "id": "49de4c61-8e01-49ec-ae8e-493a909777e9",
   "metadata": {},
   "source": [
    "Step 1. Examine the LP and directly assign LP to non-gauge addresses."
   ]
  },
  {
   "cell_type": "code",
   "execution_count": 36,
   "id": "8429764d-4b4a-444e-9a32-9e9751dead4d",
   "metadata": {},
   "outputs": [
    {
     "data": {
      "text/plain": [
       "1123.1288125757815"
      ]
     },
     "execution_count": 36,
     "metadata": {},
     "output_type": "execute_result"
    }
   ],
   "source": [
    "equalizer_lp_attributed_balances = {}\n",
    "for key, value in equalizer_call_results.items():\n",
    "    if value > 0 and parse_address(key) not in [equalizer_gauge_1, equalizer_gauge_2]:\n",
    "        equalizer_lp_attributed_balances[parse_address(key)] = value\n",
    "sum(equalizer_lp_attributed_balances.values()) / 1e18"
   ]
  },
  {
   "cell_type": "markdown",
   "id": "b9f6b34c-3382-4652-9980-efc5541c4a56",
   "metadata": {},
   "source": [
    "Step 2. Examine Gauges and assign LP to addresses.\n",
    "First determine how much LP is controlled by a gauge, then assign LP based on proportion of gauge."
   ]
  },
  {
   "cell_type": "code",
   "execution_count": 38,
   "id": "28debdac-9d61-4a6b-9355-da3f78ae8e59",
   "metadata": {},
   "outputs": [
    {
     "data": {
      "text/plain": [
       "839123.0124607284"
      ]
     },
     "execution_count": 38,
     "metadata": {},
     "output_type": "execute_result"
    }
   ],
   "source": [
    "lp_controlled_by_gauge_1 = equalizer_lp_balances[equalizer_gauge_1]\n",
    "lp_controlled_by_gauge_1 / 1e18"
   ]
  },
  {
   "cell_type": "code",
   "execution_count": 39,
   "id": "17b79e11-e949-4261-a892-d2ae94705501",
   "metadata": {},
   "outputs": [
    {
     "data": {
      "text/plain": [
       "840188.8691212935"
      ]
     },
     "execution_count": 39,
     "metadata": {},
     "output_type": "execute_result"
    }
   ],
   "source": [
    "for key, value in equalizer_gauge_1_call_results.items():\n",
    "    if value > 0 and parse_address(key) not in [equalizer_gauge_1, equalizer_gauge_2]:\n",
    "        equalizer_lp_attributed_balances[parse_address(key)] = (value / gauge_1_lp_total) * lp_controlled_by_gauge_1\n",
    "sum(equalizer_lp_attributed_balances.values()) / 1e18"
   ]
  },
  {
   "cell_type": "code",
   "execution_count": 40,
   "id": "23654e63-859f-4c73-9888-f1e88fed1529",
   "metadata": {},
   "outputs": [
    {
     "data": {
      "text/plain": [
       "11150.759830643088"
      ]
     },
     "execution_count": 40,
     "metadata": {},
     "output_type": "execute_result"
    }
   ],
   "source": [
    "lp_controlled_by_gauge_2 = equalizer_lp_balances[equalizer_gauge_2]\n",
    "lp_controlled_by_gauge_2 / 1e18"
   ]
  },
  {
   "cell_type": "code",
   "execution_count": 41,
   "id": "a7a7176c-9809-4309-b091-3a8e9ccb8cf8",
   "metadata": {},
   "outputs": [
    {
     "data": {
      "text/plain": [
       "848706.3446693355"
      ]
     },
     "execution_count": 41,
     "metadata": {},
     "output_type": "execute_result"
    }
   ],
   "source": [
    "for key, value in equalizer_gauge_2_call_results.items():\n",
    "    if value > 0 and parse_address(key) not in [equalizer_gauge_1, equalizer_gauge_2]:\n",
    "        equalizer_lp_attributed_balances[parse_address(key)] = (value / gauge_2_lp_total) * lp_controlled_by_gauge_2\n",
    "sum(equalizer_lp_attributed_balances.values()) / 1e18"
   ]
  },
  {
   "cell_type": "code",
   "execution_count": 42,
   "id": "d45b36e4-d549-4958-8477-14ae3d6292b7",
   "metadata": {},
   "outputs": [
    {
     "data": {
      "text/plain": [
       "100.0"
      ]
     },
     "execution_count": 42,
     "metadata": {},
     "output_type": "execute_result"
    }
   ],
   "source": [
    "(1 - ((pool_lp_total - sum(equalizer_lp_balances.values())) / pool_lp_total)) * 100"
   ]
  },
  {
   "cell_type": "markdown",
   "id": "f2f90f72-0886-4c6e-8e59-dd5881a51926",
   "metadata": {},
   "source": [
    "We have attributed all of the LP."
   ]
  },
  {
   "cell_type": "code",
   "execution_count": 46,
   "id": "6f27d4ba-4dcf-4ec3-a33d-c666dafe8b34",
   "metadata": {},
   "outputs": [
    {
     "data": {
      "text/plain": [
       "848706.3446693354"
      ]
     },
     "execution_count": 46,
     "metadata": {},
     "output_type": "execute_result"
    }
   ],
   "source": [
    "df = pd.DataFrame.from_dict(equalizer_lp_attributed_balances, orient=\"index\", columns=[\"lp_balance\"])\n",
    "df[\"address\"] = df.index\n",
    "df.reset_index(drop=True, inplace=True)\n",
    "df = df[[\"address\", \"lp_balance\"]]\n",
    "df['mpx_balance'] = (df['lp_balance'] / pool_lp_total) * pool_mpx_total\n",
    "df['lp_balance'] = df['lp_balance'].apply(lambda x: int(x)).values.tolist()\n",
    "df['mpx_balance'] = df['mpx_balance'].apply(lambda x: int(x)).values.tolist()\n",
    "df.to_csv(\"../products/fantom-equalizer-balances.csv\", index=False, float_format='%g')\n",
    "sum(df['lp_balance']) / 1e18"
   ]
  },
  {
   "cell_type": "code",
   "execution_count": 47,
   "id": "7d3bf571-24b5-4b6b-87aa-7e66e4934786",
   "metadata": {},
   "outputs": [
    {
     "data": {
      "text/plain": [
       "1277843.1189045638"
      ]
     },
     "execution_count": 47,
     "metadata": {},
     "output_type": "execute_result"
    }
   ],
   "source": [
    "sum(df['mpx_balance']) / 1e18"
   ]
  }
 ],
 "metadata": {
  "kernelspec": {
   "display_name": "Python 3 (ipykernel)",
   "language": "python",
   "name": "python3"
  },
  "language_info": {
   "codemirror_mode": {
    "name": "ipython",
    "version": 3
   },
   "file_extension": ".py",
   "mimetype": "text/x-python",
   "name": "python",
   "nbconvert_exporter": "python",
   "pygments_lexer": "ipython3",
   "version": "3.9.16"
  }
 },
 "nbformat": 4,
 "nbformat_minor": 5
}
