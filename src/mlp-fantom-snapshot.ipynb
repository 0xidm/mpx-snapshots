{
 "cells": [
  {
   "cell_type": "code",
   "execution_count": 1,
   "id": "10501af9-a430-40f0-b1d5-023841c753f6",
   "metadata": {},
   "outputs": [],
   "source": [
    "import pandas as pd\n",
    "import json"
   ]
  },
  {
   "cell_type": "code",
   "execution_count": 71,
   "id": "6553ac4c-3a47-41d2-bad2-e280bb93dc6b",
   "metadata": {},
   "outputs": [],
   "source": [
    "mpx_erc20_address = \"0x66eEd5FF1701E6ed8470DC391F05e27B1d0657eb\"\n",
    "mlp_erc20_address = \"0xd5c313DE2d33bf36014e6c659F13acE112B80a8E\"\n",
    "vault_address = \"0x3CB54f0eB62C371065D739A34a775CC16f46563e\"\n",
    "mlp_manager_address = \"0xA3Ea99f8aE06bA0d9A6Cf7618d06AEa4564340E9\"\n",
    "musd_erc20_address = \"0xB7209EbCBF71c0ffA1585B4468A11CFfdcDBB9a9\"\n",
    "esmpx_erc20_address = \"0xe0f606e6730bE531EeAf42348dE43C2feeD43505\"\n",
    "reward_router_address = \"0x20De7f8283D377fA84575A26c9D484Ee40f55877\"\n",
    "reward_reader_address = \"0x512F8D4E28EB53A6d036aEDA9C5a4D1De6DBD543\"\n",
    "weth_erc20_address = \"0x21be370D5312f44cB42ce377BC9b8a0cEF1A4C83\"\n",
    "tracker_staked_mlp_address = \"0xa4157E273D88ff16B3d8Df68894e1fd809DbC007\" # staked MPX\n",
    "tracker_staked_mpx_address = \"0x49A97680938B4F1f73816d1B70C3Ab801FAd124B\" # fee + staked MLP"
   ]
  },
  {
   "cell_type": "markdown",
   "id": "f337744f-a9a4-44ae-8679-f7d62deaebbf",
   "metadata": {},
   "source": [
    "## Load Fantom transactions\n",
    "\n",
    "The first stage of this snapshot used an archive of the Fantom DAG, which was queried from public RPC servers.\n",
    "The Fantom archive contains blocks ranging from 54647659 to 65653613 (2023-01-29 to 2023-07-12)."
   ]
  },
  {
   "cell_type": "code",
   "execution_count": 72,
   "id": "ebfbcb13-389d-40c5-a92b-951ed14e3c8a",
   "metadata": {},
   "outputs": [
    {
     "data": {
      "text/html": [
       "<div>\n",
       "<style scoped>\n",
       "    .dataframe tbody tr th:only-of-type {\n",
       "        vertical-align: middle;\n",
       "    }\n",
       "\n",
       "    .dataframe tbody tr th {\n",
       "        vertical-align: top;\n",
       "    }\n",
       "\n",
       "    .dataframe thead th {\n",
       "        text-align: right;\n",
       "    }\n",
       "</style>\n",
       "<table border=\"1\" class=\"dataframe\">\n",
       "  <thead>\n",
       "    <tr style=\"text-align: right;\">\n",
       "      <th></th>\n",
       "      <th>block_id</th>\n",
       "      <th>tx_hash</th>\n",
       "      <th>method</th>\n",
       "      <th>from</th>\n",
       "      <th>to</th>\n",
       "      <th>quantity</th>\n",
       "    </tr>\n",
       "  </thead>\n",
       "  <tbody>\n",
       "    <tr>\n",
       "      <th>0</th>\n",
       "      <td>54647659</td>\n",
       "      <td>0x68b471267b020fb7be707817bbe822da9a18f45071c7...</td>\n",
       "      <td>0x627dd56a</td>\n",
       "      <td>0x5cD5AFF4A3b42b59651BAB5Eb45c07375f60e905</td>\n",
       "      <td>0x3319161b131401124E61ffCDFf0aa7f6FDcbbFEd</td>\n",
       "      <td>0</td>\n",
       "    </tr>\n",
       "    <tr>\n",
       "      <th>1</th>\n",
       "      <td>54647659</td>\n",
       "      <td>0xa873edd8d865c95afd33d5ebeb34cad3df4843b2c769...</td>\n",
       "      <td>0x16711fdc</td>\n",
       "      <td>0x53e0466D46306e9824590988f50B0EEAcA1A6Dae</td>\n",
       "      <td>0x6Ff283ac7BB7F66475Ca79aA549c6f689cDB89Dd</td>\n",
       "      <td>0</td>\n",
       "    </tr>\n",
       "    <tr>\n",
       "      <th>2</th>\n",
       "      <td>54647659</td>\n",
       "      <td>0x68f2f5c608c220d3ff0c421eed9812b7e9d6124d4adb...</td>\n",
       "      <td>0xac882d06</td>\n",
       "      <td>0x656DAA21A427a1A290dD78AC581fFe8CbfF16066</td>\n",
       "      <td>0x6b120e310A892D1Cbe0F89E76Bf7Cb0da3a85BCe</td>\n",
       "      <td>0</td>\n",
       "    </tr>\n",
       "    <tr>\n",
       "      <th>3</th>\n",
       "      <td>54647659</td>\n",
       "      <td>0xd1e53d2e2bcf779b4061a4dc7080a33d4f270b72c61a...</td>\n",
       "      <td>0x627dd56a</td>\n",
       "      <td>0x01883C8E7Abb7C2Ef03d802F77AA567a254e17d7</td>\n",
       "      <td>0x0000900e00070d8090169000D2B090B67f0c1050</td>\n",
       "      <td>0</td>\n",
       "    </tr>\n",
       "    <tr>\n",
       "      <th>4</th>\n",
       "      <td>54647659</td>\n",
       "      <td>0x961463fa4ffc36d9d1fea04060b9c57072950a81a5ca...</td>\n",
       "      <td>0x58b58d44</td>\n",
       "      <td>0x211cB8e0740AdF9066453e627dcc196225c8F0E7</td>\n",
       "      <td>0xe0df6a0840C4f31E81C3d4B11Ba8B579F2ba8b1a</td>\n",
       "      <td>0</td>\n",
       "    </tr>\n",
       "  </tbody>\n",
       "</table>\n",
       "</div>"
      ],
      "text/plain": [
       "   block_id                                            tx_hash      method  \\\n",
       "0  54647659  0x68b471267b020fb7be707817bbe822da9a18f45071c7...  0x627dd56a   \n",
       "1  54647659  0xa873edd8d865c95afd33d5ebeb34cad3df4843b2c769...  0x16711fdc   \n",
       "2  54647659  0x68f2f5c608c220d3ff0c421eed9812b7e9d6124d4adb...  0xac882d06   \n",
       "3  54647659  0xd1e53d2e2bcf779b4061a4dc7080a33d4f270b72c61a...  0x627dd56a   \n",
       "4  54647659  0x961463fa4ffc36d9d1fea04060b9c57072950a81a5ca...  0x58b58d44   \n",
       "\n",
       "                                         from  \\\n",
       "0  0x5cD5AFF4A3b42b59651BAB5Eb45c07375f60e905   \n",
       "1  0x53e0466D46306e9824590988f50B0EEAcA1A6Dae   \n",
       "2  0x656DAA21A427a1A290dD78AC581fFe8CbfF16066   \n",
       "3  0x01883C8E7Abb7C2Ef03d802F77AA567a254e17d7   \n",
       "4  0x211cB8e0740AdF9066453e627dcc196225c8F0E7   \n",
       "\n",
       "                                           to quantity  \n",
       "0  0x3319161b131401124E61ffCDFf0aa7f6FDcbbFEd        0  \n",
       "1  0x6Ff283ac7BB7F66475Ca79aA549c6f689cDB89Dd        0  \n",
       "2  0x6b120e310A892D1Cbe0F89E76Bf7Cb0da3a85BCe        0  \n",
       "3  0x0000900e00070d8090169000D2B090B67f0c1050        0  \n",
       "4  0xe0df6a0840C4f31E81C3d4B11Ba8B579F2ba8b1a        0  "
      ]
     },
     "execution_count": 72,
     "metadata": {},
     "output_type": "execute_result"
    }
   ],
   "source": [
    "fantom_txs_filename = \"../data/fantom-txs.csv.gz\"\n",
    "txs = pd.read_csv(fantom_txs_filename)\n",
    "txs.head()"
   ]
  },
  {
   "cell_type": "markdown",
   "id": "3696c4e6-0656-4652-85d0-66df2fb35aef",
   "metadata": {},
   "source": [
    "## Identify interacting wallet addresses\n",
    "\n",
    "This snapshot begins by identifying all the addresses that ever interacted with Morphex contracts.\n",
    "This list of addresses will be used in the next stage to query balances on-chain."
   ]
  },
  {
   "cell_type": "code",
   "execution_count": 73,
   "id": "3e3145c3-b21b-41ca-9483-364b1e92ce60",
   "metadata": {},
   "outputs": [
    {
     "data": {
      "text/plain": [
       "10879"
      ]
     },
     "execution_count": 73,
     "metadata": {},
     "output_type": "execute_result"
    }
   ],
   "source": [
    "mpx_txs = txs.query(f'to == \"{mpx_erc20_address}\"')\n",
    "len(mpx_txs)"
   ]
  },
  {
   "cell_type": "code",
   "execution_count": 74,
   "id": "c7ea654a-1d3c-4bb2-b568-ea5a178767de",
   "metadata": {},
   "outputs": [
    {
     "data": {
      "text/plain": [
       "4233"
      ]
     },
     "execution_count": 74,
     "metadata": {},
     "output_type": "execute_result"
    }
   ],
   "source": [
    "unique_mpx_addresses = set(mpx_txs['from'])\n",
    "len(unique_mpx_addresses)"
   ]
  },
  {
   "cell_type": "code",
   "execution_count": 75,
   "id": "636224d7-0180-45f2-bbc4-968dd58a1f05",
   "metadata": {},
   "outputs": [
    {
     "data": {
      "text/plain": [
       "46739"
      ]
     },
     "execution_count": 75,
     "metadata": {},
     "output_type": "execute_result"
    }
   ],
   "source": [
    "reward_router_txs = txs.query(f'to == \"{reward_router_address}\"')\n",
    "len(reward_router_txs)"
   ]
  },
  {
   "cell_type": "code",
   "execution_count": 76,
   "id": "3f02138d-2a9b-4aca-b876-12c3f7d166ac",
   "metadata": {},
   "outputs": [
    {
     "data": {
      "text/plain": [
       "1585"
      ]
     },
     "execution_count": 76,
     "metadata": {},
     "output_type": "execute_result"
    }
   ],
   "source": [
    "unique_reward_addresses = set(reward_router_txs['from'])\n",
    "len(unique_reward_addresses)"
   ]
  },
  {
   "cell_type": "code",
   "execution_count": 77,
   "id": "bff5724d-37ad-420a-8c41-abab52c7eb4b",
   "metadata": {},
   "outputs": [
    {
     "data": {
      "text/plain": [
       "4501"
      ]
     },
     "execution_count": 77,
     "metadata": {},
     "output_type": "execute_result"
    }
   ],
   "source": [
    "addresses = unique_reward_addresses | unique_mpx_addresses\n",
    "with open(\"../data/fantom-addresses.json\", \"w\") as f:\n",
    "    json.dump(list(addresses), f)\n",
    "len(addresses)"
   ]
  },
  {
   "cell_type": "markdown",
   "id": "ce910f04-97e3-4b1a-9fa4-bae47cae75bd",
   "metadata": {},
   "source": [
    "## Call contracts on-chain to obtain balances\n",
    "\n",
    "Fantom RPCs providing full/archival operation permit `eth_call` to be executed against a historical block.\n",
    "For this snapshot, we queried contracts on-chain at block `64884840` (June 30, 2:20 UTC).\n",
    "\n",
    "The script for querying the contracts is located in `/src/scripts/mlp.py`."
   ]
  },
  {
   "cell_type": "code",
   "execution_count": null,
   "id": "5e478558-1c20-4bbf-89f9-30c512b8659b",
   "metadata": {},
   "outputs": [],
   "source": [
    "def parse_address(item):\n",
    "    return item.split(\",\")[2].split(\"'\")[1]"
   ]
  },
  {
   "cell_type": "markdown",
   "id": "62419dd6-6c8b-4bed-b014-96b5b3ae79f8",
   "metadata": {},
   "source": [
    "### Staked MLP"
   ]
  },
  {
   "cell_type": "code",
   "execution_count": 88,
   "id": "9f277b52-fd7a-49ed-8bfc-ffd27e9ed7b1",
   "metadata": {},
   "outputs": [
    {
     "data": {
      "text/plain": [
       "4501"
      ]
     },
     "execution_count": 88,
     "metadata": {},
     "output_type": "execute_result"
    }
   ],
   "source": [
    "with open(\"../data/fantom-staked-mlp-results.json\", \"r\") as f:\n",
    "    mlp_call_results = json.load(f)\n",
    "len(mlp_call_results)"
   ]
  },
  {
   "cell_type": "code",
   "execution_count": 89,
   "id": "f13f415b-1ffc-48c7-841e-b17ea4fddb24",
   "metadata": {},
   "outputs": [
    {
     "data": {
      "text/plain": [
       "418265.70937368023"
      ]
     },
     "execution_count": 89,
     "metadata": {},
     "output_type": "execute_result"
    }
   ],
   "source": [
    "mlp_balances = {}\n",
    "for key, value in mlp_call_results.items():\n",
    "    if value > 0:\n",
    "        mlp_balances[parse_address(key)] = value\n",
    "\n",
    "with open(\"../data/fantom-fsmlp-balances.json\", \"w\") as f:\n",
    "    json.dump(mlp_balances, f, indent=2)\n",
    "\n",
    "sum(mlp_balances.values()) / 1e18"
   ]
  },
  {
   "cell_type": "markdown",
   "id": "e0344916-b16f-4efc-9c2f-fcff1ed87e3a",
   "metadata": {},
   "source": [
    "### Single-staked MPX"
   ]
  },
  {
   "cell_type": "code",
   "execution_count": 90,
   "id": "a7699c81-9792-43dd-888c-e388364ae353",
   "metadata": {},
   "outputs": [
    {
     "data": {
      "text/plain": [
       "4501"
      ]
     },
     "execution_count": 90,
     "metadata": {},
     "output_type": "execute_result"
    }
   ],
   "source": [
    "with open(\"../data/fantom-staked-mpx-results.json\", \"r\") as f:\n",
    "    mpx_call_results = json.load(f)\n",
    "len(mpx_call_results)"
   ]
  },
  {
   "cell_type": "code",
   "execution_count": 91,
   "id": "cc9591e9-8872-47ee-9ad3-92e6c456fcb7",
   "metadata": {},
   "outputs": [
    {
     "data": {
      "text/plain": [
       "7369371.241099392"
      ]
     },
     "execution_count": 91,
     "metadata": {},
     "output_type": "execute_result"
    }
   ],
   "source": [
    "mpx_balances = {}\n",
    "for key, value in mpx_call_results.items():\n",
    "    if value > 0:\n",
    "        mpx_balances[parse_address(key)] = value\n",
    "\n",
    "with open(\"../data/fantom-smpx-balances.json\", \"w\") as f:\n",
    "    json.dump(mpx_balances, f, indent=2)\n",
    "\n",
    "sum(mpx_balances.values()) / 1e18"
   ]
  },
  {
   "cell_type": "code",
   "execution_count": null,
   "id": "141c248c-1000-4646-a65e-73e7c7647e48",
   "metadata": {},
   "outputs": [],
   "source": []
  }
 ],
 "metadata": {
  "kernelspec": {
   "display_name": "Python 3 (ipykernel)",
   "language": "python",
   "name": "python3"
  },
  "language_info": {
   "codemirror_mode": {
    "name": "ipython",
    "version": 3
   },
   "file_extension": ".py",
   "mimetype": "text/x-python",
   "name": "python",
   "nbconvert_exporter": "python",
   "pygments_lexer": "ipython3",
   "version": "3.9.16"
  }
 },
 "nbformat": 4,
 "nbformat_minor": 5
}
